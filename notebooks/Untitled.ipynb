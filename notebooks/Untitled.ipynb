{
 "cells": [
  {
   "cell_type": "code",
   "execution_count": 1,
   "metadata": {},
   "outputs": [],
   "source": [
    "import ot\n",
    "import pandas as pd\n",
    "import matplotlib.pyplot as plt\n",
    "import numpy as np\n",
    "import scipy"
   ]
  },
  {
   "cell_type": "code",
   "execution_count": 2,
   "metadata": {},
   "outputs": [],
   "source": [
    "import sklearn\n",
    "from sklearn.preprocessing import LabelBinarizer, LabelEncoder, StandardScaler"
   ]
  },
  {
   "cell_type": "markdown",
   "metadata": {},
   "source": [
    "### Generate the problem / prepare selected datasets"
   ]
  },
  {
   "cell_type": "code",
   "execution_count": 3,
   "metadata": {},
   "outputs": [],
   "source": [
    "numerical_features_index = [0, 2, 4, 10, 11, 12]\n",
    "\n",
    "data_train = pd.read_csv('../datasets/Adult income dataset/adult.data', header=None, nrows=10000)\n",
    "y_train = data_train.loc[:, data_train.columns[-1]]\n",
    "gender_train = data_train.loc[:, data_train.columns[9]]\n",
    "\n",
    "\n",
    "data_test = pd.read_csv('../datasets/Adult income dataset/adult.test', skiprows=1, header=None)\n",
    "y_test = data_test.loc[:, data_train.columns[-1]]\n",
    "gender_test = data_test.loc[:, data_test.columns[9]]\n",
    "\n",
    "data_train.drop(data_train.columns.difference(numerical_features_index), axis=1, inplace=True)\n",
    "data_test.drop(data_test.columns.difference(numerical_features_index), axis=1, inplace=True)\n",
    "data_train = data_train.astype(np.float64)\n",
    "data_test = data_test.astype(np.float64)\n",
    "\n",
    "\n",
    "\n",
    "gender_train = gender_train.apply(lambda x: x.strip())\n",
    "gender_test = gender_test.apply(lambda x: x.strip())"
   ]
  },
  {
   "cell_type": "code",
   "execution_count": 4,
   "metadata": {},
   "outputs": [],
   "source": [
    "data_train.drop_duplicates(inplace=True)\n",
    "y_train = y_train.loc[data_train.index]\n",
    "gender_train = gender_train.loc[data_train.index]\n",
    "\n",
    "assert data_train.shape[0] == y_train.shape[0] == gender_train.shape[0]"
   ]
  },
  {
   "cell_type": "code",
   "execution_count": 5,
   "metadata": {},
   "outputs": [],
   "source": [
    "binarizer = LabelBinarizer()\n",
    "y_train = binarizer.fit_transform(y_train).ravel()\n",
    "y_test = binarizer.fit_transform(y_test).ravel()"
   ]
  },
  {
   "cell_type": "code",
   "execution_count": 6,
   "metadata": {},
   "outputs": [],
   "source": [
    "scaler = StandardScaler()\n",
    "data_train = scaler.fit_transform(data_train)\n",
    "data_test = scaler.transform(data_test)"
   ]
  },
  {
   "cell_type": "code",
   "execution_count": 7,
   "metadata": {},
   "outputs": [],
   "source": [
    "from sklearn.tree import DecisionTreeClassifier\n",
    "from sklearn.ensemble import GradientBoostingClassifier\n",
    "from sklearn.linear_model import LogisticRegression"
   ]
  },
  {
   "cell_type": "code",
   "execution_count": 8,
   "metadata": {},
   "outputs": [],
   "source": [
    "from sklearn.metrics import accuracy_score, f1_score, confusion_matrix"
   ]
  },
  {
   "cell_type": "code",
   "execution_count": 9,
   "metadata": {},
   "outputs": [],
   "source": [
    "clf = DecisionTreeClassifier()"
   ]
  },
  {
   "cell_type": "code",
   "execution_count": 10,
   "metadata": {},
   "outputs": [
    {
     "data": {
      "text/plain": [
       "DecisionTreeClassifier(class_weight=None, criterion='gini', max_depth=None,\n",
       "            max_features=None, max_leaf_nodes=None,\n",
       "            min_impurity_decrease=0.0, min_impurity_split=None,\n",
       "            min_samples_leaf=1, min_samples_split=2,\n",
       "            min_weight_fraction_leaf=0.0, presort=False, random_state=None,\n",
       "            splitter='best')"
      ]
     },
     "execution_count": 10,
     "metadata": {},
     "output_type": "execute_result"
    }
   ],
   "source": [
    "clf.fit(data_train, y_train)"
   ]
  },
  {
   "cell_type": "code",
   "execution_count": 11,
   "metadata": {},
   "outputs": [],
   "source": [
    "def likelihood_ratio(y_true, y_predicted):\n",
    "    cm = sklearn.metrics.confusion_matrix(y_true, y_predicted)\n",
    "    a = cm[0, 0]\n",
    "    b = cm[0, 1]\n",
    "    c = cm[1, 0]\n",
    "    d = cm[1, 1]\n",
    "    return d * (a + c) / c / (b + d)"
   ]
  },
  {
   "cell_type": "code",
   "execution_count": 12,
   "metadata": {},
   "outputs": [],
   "source": [
    "def disparate_impact(y_true, y_predicted):\n",
    "    return 1. / likelihood_ratio(y_true, y_predicted)"
   ]
  },
  {
   "cell_type": "code",
   "execution_count": 13,
   "metadata": {},
   "outputs": [
    {
     "name": "stdout",
     "output_type": "stream",
     "text": [
      "Initial accuracy of classification: 0.7687488483508385\n"
     ]
    }
   ],
   "source": [
    "print('Initial accuracy of classification: {}'.format(accuracy_score(y_test, clf.predict(data_test))))"
   ]
  },
  {
   "cell_type": "code",
   "execution_count": 14,
   "metadata": {},
   "outputs": [],
   "source": [
    "lr = likelihood_ratio(y_test, clf.predict(data_test))"
   ]
  },
  {
   "cell_type": "code",
   "execution_count": 15,
   "metadata": {},
   "outputs": [],
   "source": [
    "DI  = disparate_impact(y_test, clf.predict(data_test))"
   ]
  },
  {
   "cell_type": "code",
   "execution_count": 16,
   "metadata": {},
   "outputs": [],
   "source": [
    "male_entries_index = gender_train[gender_train == 'Male'].index\n",
    "female_entries_index = gender_train[gender_train == 'Female'].index\n",
    "\n",
    "male_entries_test_index = gender_test[gender_test == 'Male'].index\n",
    "female_entries_test_index = gender_test[gender_test == 'Female'].index"
   ]
  },
  {
   "cell_type": "code",
   "execution_count": 37,
   "metadata": {},
   "outputs": [],
   "source": [
    "n0 = data_train[gender_train == 'Male'].shape[0]\n",
    "n1 = data_train[gender_train == 'Female'].shape[0]\n",
    "\n",
    "emperical_histogram_male = np.ones_like(male_entries_index) / n0\n",
    "\n",
    "emperical_histogram_female = np.ones_like(female_entries_index) / n1"
   ]
  },
  {
   "cell_type": "code",
   "execution_count": 18,
   "metadata": {},
   "outputs": [],
   "source": [
    "C = ot.dist(data_train[gender_train == 'Male'], data_train[gender_train == 'Female'])"
   ]
  },
  {
   "cell_type": "code",
   "execution_count": 23,
   "metadata": {},
   "outputs": [],
   "source": [
    "coupling = ot.emd(emperical_histogram_male, emperical_histogram_female, C, numItermax=1000000000)"
   ]
  },
  {
   "cell_type": "code",
   "execution_count": 45,
   "metadata": {},
   "outputs": [],
   "source": [
    "def construct_map(weights, data_first, data_second, coupling):\n",
    "    weight_1, weight_2 = weights\n",
    "    n0 = data_train[gender_train == 'Male'].shape[0]\n",
    "    n1 = data_train[gender_train == 'Female'].shape[0]\n",
    "    mapped_class_0 = 0.5 * data_first  + n0 * 0.5 * (coupling @ data_second)\n",
    "    mapped_class_1 = 0.5 * n1 * (coupling.T @ data_first) + 0.5 * data_second\n",
    "    return mapped_class_0, mapped_class_1"
   ]
  },
  {
   "cell_type": "code",
   "execution_count": 47,
   "metadata": {},
   "outputs": [],
   "source": [
    "mapped_1, mapped_2 = construct_map([0.5, 0.5], data_train[gender_train == 'Male'], data_train[gender_train == 'Female'], coupling)"
   ]
  },
  {
   "cell_type": "markdown",
   "metadata": {},
   "source": [
    "### Show that different solutions for the same transporation problem can have different fairness"
   ]
  },
  {
   "cell_type": "markdown",
   "metadata": {},
   "source": [
    "### Explore how the regularized barycenters are defined, try to apply them to the problem"
   ]
  },
  {
   "cell_type": "markdown",
   "metadata": {},
   "source": [
    "### Use the regularized transport maps instead of usual ones"
   ]
  }
 ],
 "metadata": {
  "kernelspec": {
   "display_name": "Python 3",
   "language": "python",
   "name": "python3"
  },
  "language_info": {
   "codemirror_mode": {
    "name": "ipython",
    "version": 3
   },
   "file_extension": ".py",
   "mimetype": "text/x-python",
   "name": "python",
   "nbconvert_exporter": "python",
   "pygments_lexer": "ipython3",
   "version": "3.6.6"
  }
 },
 "nbformat": 4,
 "nbformat_minor": 2
}
