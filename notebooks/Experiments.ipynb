{
 "cells": [
  {
   "cell_type": "code",
   "execution_count": 1,
   "metadata": {
    "collapsed": true
   },
   "outputs": [],
   "source": [
    "import ot\n",
    "import pandas as pd\n",
    "import matplotlib.pyplot as plt\n",
    "import numpy as np\n",
    "import scipy\n",
    "from sklearn.base import clone"
   ]
  },
  {
   "cell_type": "code",
   "execution_count": 2,
   "metadata": {
    "collapsed": true
   },
   "outputs": [],
   "source": [
    "import sklearn\n",
    "from sklearn.preprocessing import LabelBinarizer, LabelEncoder, StandardScaler"
   ]
  },
  {
   "cell_type": "markdown",
   "metadata": {},
   "source": [
    "### Generate the problem / prepare selected datasets"
   ]
  },
  {
   "cell_type": "code",
   "execution_count": 3,
   "metadata": {
    "collapsed": true
   },
   "outputs": [],
   "source": [
    "numerical_features_index = [0, 2, 4, 10, 11, 12]\n",
    "\n",
    "data_train = pd.read_csv('../datasets/Adult income dataset/adult.data', header=None)\n",
    "y_train = data_train.loc[:, data_train.columns[-1]]\n",
    "gender_train = data_train.loc[:, data_train.columns[9]]\n",
    "\n",
    "\n",
    "data_test = pd.read_csv('../datasets/Adult income dataset/adult.test', skiprows=1, header=None)\n",
    "y_test = data_test.loc[:, data_train.columns[-1]]\n",
    "gender_test = data_test.loc[:, data_test.columns[9]]\n",
    "\n",
    "data_train.drop(data_train.columns.difference(numerical_features_index), axis=1, inplace=True)\n",
    "data_test.drop(data_test.columns.difference(numerical_features_index), axis=1, inplace=True)\n",
    "data_train = data_train.astype(np.float64)\n",
    "data_test = data_test.astype(np.float64)\n",
    "\n",
    "\n",
    "\n",
    "gender_train = gender_train.apply(lambda x: x.strip())\n",
    "gender_test = gender_test.apply(lambda x: x.strip())"
   ]
  },
  {
   "cell_type": "code",
   "execution_count": 4,
   "metadata": {
    "collapsed": true
   },
   "outputs": [],
   "source": [
    "data_train.drop_duplicates(inplace=True)\n",
    "y_train = y_train.loc[data_train.index]\n",
    "gender_train = gender_train.loc[data_train.index]\n",
    "\n",
    "assert data_train.shape[0] == y_train.shape[0] == gender_train.shape[0]"
   ]
  },
  {
   "cell_type": "code",
   "execution_count": 5,
   "metadata": {
    "collapsed": true
   },
   "outputs": [],
   "source": [
    "binarizer = LabelBinarizer()\n",
    "y_train = binarizer.fit_transform(y_train).ravel()\n",
    "y_test = binarizer.fit_transform(y_test).ravel()"
   ]
  },
  {
   "cell_type": "code",
   "execution_count": 6,
   "metadata": {
    "collapsed": true
   },
   "outputs": [],
   "source": [
    "gender_binarizer = LabelBinarizer()\n",
    "gender_binary = gender_binarizer.fit_transform(gender_test.values).ravel()"
   ]
  },
  {
   "cell_type": "code",
   "execution_count": 7,
   "metadata": {
    "collapsed": true
   },
   "outputs": [],
   "source": [
    "scaler = StandardScaler()\n",
    "data_train = scaler.fit_transform(data_train)\n",
    "data_test = scaler.transform(data_test)"
   ]
  },
  {
   "cell_type": "code",
   "execution_count": 8,
   "metadata": {},
   "outputs": [
    {
     "name": "stderr",
     "output_type": "stream",
     "text": [
      "/home/use/anaconda3/lib/python3.6/site-packages/sklearn/ensemble/weight_boosting.py:29: DeprecationWarning: numpy.core.umath_tests is an internal NumPy module and should not be imported. It will be removed in a future NumPy release.\n",
      "  from numpy.core.umath_tests import inner1d\n"
     ]
    }
   ],
   "source": [
    "from sklearn.tree import DecisionTreeClassifier\n",
    "from sklearn.ensemble import GradientBoostingClassifier, RandomForestClassifier\n",
    "from sklearn.linear_model import LogisticRegression\n",
    "from sklearn.metrics import accuracy_score, f1_score"
   ]
  },
  {
   "cell_type": "code",
   "execution_count": 9,
   "metadata": {
    "collapsed": true
   },
   "outputs": [],
   "source": [
    "clf_base = RandomForestClassifier()"
   ]
  },
  {
   "cell_type": "code",
   "execution_count": 10,
   "metadata": {},
   "outputs": [
    {
     "data": {
      "text/plain": [
       "RandomForestClassifier(bootstrap=True, class_weight=None, criterion='gini',\n",
       "            max_depth=None, max_features='auto', max_leaf_nodes=None,\n",
       "            min_impurity_decrease=0.0, min_impurity_split=None,\n",
       "            min_samples_leaf=1, min_samples_split=2,\n",
       "            min_weight_fraction_leaf=0.0, n_estimators=10, n_jobs=1,\n",
       "            oob_score=False, random_state=None, verbose=0,\n",
       "            warm_start=False)"
      ]
     },
     "execution_count": 10,
     "metadata": {},
     "output_type": "execute_result"
    }
   ],
   "source": [
    "clf = clone(clf_base)\n",
    "\n",
    "clf.fit(data_train, y_train)"
   ]
  },
  {
   "cell_type": "code",
   "execution_count": 11,
   "metadata": {},
   "outputs": [
    {
     "name": "stdout",
     "output_type": "stream",
     "text": [
      "Initial accuracy of classification: 0.8113138013635526\n"
     ]
    }
   ],
   "source": [
    "print('Initial accuracy of classification: {}'.format(accuracy_score(y_test, clf.predict(data_test))))"
   ]
  },
  {
   "cell_type": "code",
   "execution_count": 12,
   "metadata": {
    "collapsed": true
   },
   "outputs": [],
   "source": [
    "male_entries_index = gender_train[gender_train == 'Male'].index\n",
    "female_entries_index = gender_train[gender_train == 'Female'].index\n",
    "\n",
    "male_entries_test_index = gender_test[gender_test == 'Male'].index\n",
    "female_entries_test_index = gender_test[gender_test == 'Female'].index"
   ]
  },
  {
   "cell_type": "code",
   "execution_count": 13,
   "metadata": {
    "collapsed": true
   },
   "outputs": [],
   "source": [
    "n0 = data_train[gender_train == 'Male'].shape[0]\n",
    "n1 = data_train[gender_train == 'Female'].shape[0]\n",
    "\n",
    "emperical_histogram_male = np.ones_like(male_entries_index) / n0\n",
    "\n",
    "emperical_histogram_female = np.ones_like(female_entries_index) / n1"
   ]
  },
  {
   "cell_type": "code",
   "execution_count": 14,
   "metadata": {
    "collapsed": true
   },
   "outputs": [],
   "source": [
    "C = ot.dist(data_train[gender_train == 'Male'], data_train[gender_train == 'Female'])"
   ]
  },
  {
   "cell_type": "code",
   "execution_count": 15,
   "metadata": {
    "collapsed": true
   },
   "outputs": [],
   "source": [
    "coupling = ot.emd(emperical_histogram_male, emperical_histogram_female, C, numItermax=1000000000)"
   ]
  },
  {
   "cell_type": "code",
   "execution_count": 16,
   "metadata": {
    "collapsed": true
   },
   "outputs": [],
   "source": [
    "def confusion_matrix(predictions, protected_attribute):\n",
    "    n = predictions.shape[0]\n",
    "    a = np.sum((predictions == 0) & (protected_attribute == 0)) / n\n",
    "    b = np.sum((predictions == 1) & (protected_attribute == 0)) / n\n",
    "    c = np.sum((predictions == 0) & (protected_attribute == 1)) / n\n",
    "    d = np.sum((predictions == 1) & (protected_attribute == 1)) / n\n",
    "    return a, b, c, d\n",
    "      \n",
    "def balanced_error_rate(y_true, y_pred, protected_attributes):\n",
    "    pass"
   ]
  },
  {
   "cell_type": "code",
   "execution_count": 17,
   "metadata": {
    "collapsed": true
   },
   "outputs": [],
   "source": [
    "def likelihood_ratio(y_predicted, protected):\n",
    "    #following https://arxiv.org/pdf/1412.3756.pdf\n",
    "    a, b, c, d = confusion_matrix(y_predicted, protected)\n",
    "    return d * (a + c) / c / (b + d)"
   ]
  },
  {
   "cell_type": "code",
   "execution_count": 18,
   "metadata": {
    "collapsed": true
   },
   "outputs": [],
   "source": [
    "def disparate_impact(y_true, protected):\n",
    "    return 1. / likelihood_ratio(y_true, protected)"
   ]
  },
  {
   "cell_type": "code",
   "execution_count": 19,
   "metadata": {
    "collapsed": true
   },
   "outputs": [],
   "source": [
    "def construct_map(weights, data_first, data_second, coupling):\n",
    "    weight_1, weight_2 = weights\n",
    "    print(weights)\n",
    "    n0 = data_train[gender_train == 'Male'].shape[0]\n",
    "    n1 = data_train[gender_train == 'Female'].shape[0]\n",
    "    mapped_class_0 = weight_1 * data_first  + n0 * weight_2 * (coupling @ data_second)\n",
    "    mapped_class_1 = weight_1 * n1 * (coupling.T @ data_first) + weight_2 * data_second\n",
    "    return mapped_class_0, mapped_class_1"
   ]
  },
  {
   "cell_type": "code",
   "execution_count": 20,
   "metadata": {
    "collapsed": true
   },
   "outputs": [],
   "source": [
    "def transform_dataset(weights, data_first, data_second, y, coupling):\n",
    "    mapped_class_0, mapped_class_1 = construct_map(weights, data_first, data_second, coupling)\n",
    "    y_mapped_0 = y[gender_train == 'Male']\n",
    "    y_mapped_1 = y[gender_train == 'Female']\n",
    "    return np.concatenate((mapped_class_0, mapped_class_1)), np.concatenate((y_mapped_0, y_mapped_1))"
   ]
  },
  {
   "cell_type": "code",
   "execution_count": 21,
   "metadata": {
    "collapsed": true
   },
   "outputs": [],
   "source": [
    "from tqdm import tqdm_notebook"
   ]
  },
  {
   "cell_type": "code",
   "execution_count": 32,
   "metadata": {},
   "outputs": [
    {
     "name": "stdout",
     "output_type": "stream",
     "text": [
      "class 0 size (10720, 6)\n",
      "class 1 size (21614, 6)\n"
     ]
    }
   ],
   "source": [
    "print('class 0 size {}'.format(data_train[gender_train == 'Female'].shape))\n",
    "print('class 1 size {}'.format(data_train[gender_train == 'Male'].shape))"
   ]
  },
  {
   "cell_type": "code",
   "execution_count": 22,
   "metadata": {},
   "outputs": [
    {
     "data": {
      "application/vnd.jupyter.widget-view+json": {
       "model_id": "83e234db38854bbe8a6949c8e2d02a5e",
       "version_major": 2,
       "version_minor": 0
      },
      "text/plain": [
       "A Jupyter Widget"
      ]
     },
     "metadata": {},
     "output_type": "display_data"
    },
    {
     "name": "stdout",
     "output_type": "stream",
     "text": [
      "[0.0, 1.0]\n",
      "0.0\n",
      "Accuracy score 0.7818315828266077\n",
      "Disparate impact 0.864289440051835\n",
      "[0.1111111111111111, 0.8888888888888888]\n",
      "0.1111111111111111\n",
      "Accuracy score 0.7769178797371169\n",
      "Disparate impact 0.8751509141164451\n",
      "[0.2222222222222222, 0.7777777777777778]\n",
      "0.2222222222222222\n",
      "Accuracy score 0.7809102634973282\n",
      "Disparate impact 0.8643577715213846\n",
      "[0.3333333333333333, 0.6666666666666667]\n",
      "0.3333333333333333\n",
      "Accuracy score 0.7810945273631841\n",
      "Disparate impact 0.8601833458554144\n",
      "[0.4444444444444444, 0.5555555555555556]\n",
      "0.4444444444444444\n",
      "Accuracy score 0.7866838646274799\n",
      "Disparate impact 0.8560101918465228\n",
      "[0.5555555555555556, 0.4444444444444444]\n",
      "0.5555555555555556\n",
      "Accuracy score 0.7931330999324366\n",
      "Disparate impact 0.8461476137251492\n",
      "[0.6666666666666666, 0.33333333333333337]\n",
      "0.6666666666666666\n",
      "Accuracy score 0.7907376696763098\n",
      "Disparate impact 0.8511425294991748\n",
      "[0.7777777777777777, 0.22222222222222232]\n",
      "0.7777777777777777\n",
      "Accuracy score 0.7947300534365211\n",
      "Disparate impact 0.8531187122736418\n",
      "[0.8888888888888888, 0.11111111111111116]\n",
      "0.8888888888888888\n",
      "Accuracy score 0.7990909649284442\n",
      "Disparate impact 0.8356155343401329\n",
      "[1.0, 0.0]\n",
      "1.0\n",
      "Accuracy score 0.796265585651987\n",
      "Disparate impact 0.8444947944251646\n",
      "\n"
     ]
    }
   ],
   "source": [
    "for repair_value in tqdm_notebook(np.linspace(0, 1, num=10)):\n",
    "    X_new, y_new = transform_dataset([repair_value, 1-repair_value], data_train[gender_train == 'Male'], data_train[gender_train == 'Female'], y_train, coupling)\n",
    "    clf1 = clone(clf_base)\n",
    "    clf1.fit(X_new, y_new)\n",
    "    print(repair_value)\n",
    "    print('Accuracy score {}'.format(accuracy_score(y_test, clf1.predict(data_test))))\n",
    "    print('Disparate impact {}'.format(disparate_impact(clf1.predict(data_test), gender_binary)))"
   ]
  },
  {
   "cell_type": "code",
   "execution_count": 23,
   "metadata": {},
   "outputs": [
    {
     "name": "stdout",
     "output_type": "stream",
     "text": [
      "[0.5, 0.5]\n"
     ]
    }
   ],
   "source": [
    "X_new, y_new = transform_dataset([0.5, 0.5], data_train[gender_train == 'Male'], data_train[gender_train == 'Female'], y_train, coupling)"
   ]
  },
  {
   "cell_type": "code",
   "execution_count": 24,
   "metadata": {},
   "outputs": [
    {
     "data": {
      "text/plain": [
       "0.8320550119016135"
      ]
     },
     "execution_count": 24,
     "metadata": {},
     "output_type": "execute_result"
    }
   ],
   "source": [
    "disparate_impact(clf.predict(data_test), gender_binary)"
   ]
  },
  {
   "cell_type": "code",
   "execution_count": 25,
   "metadata": {},
   "outputs": [
    {
     "data": {
      "text/plain": [
       "0.7839199066396413"
      ]
     },
     "execution_count": 25,
     "metadata": {},
     "output_type": "execute_result"
    }
   ],
   "source": [
    "clf1 = clone(clf_base)\n",
    "clf1.fit(X_new, y_new)\n",
    "\n",
    "accuracy_score(y_test, clf1.predict(data_test))"
   ]
  },
  {
   "cell_type": "code",
   "execution_count": 26,
   "metadata": {},
   "outputs": [
    {
     "data": {
      "text/plain": [
       "0.8480934154728923"
      ]
     },
     "execution_count": 26,
     "metadata": {},
     "output_type": "execute_result"
    }
   ],
   "source": [
    "disparate_impact(clf1.predict(data_test), gender_binary)"
   ]
  },
  {
   "cell_type": "markdown",
   "metadata": {},
   "source": [
    "### Show that different solutions for the same transporation problem can have different fairness"
   ]
  },
  {
   "cell_type": "markdown",
   "metadata": {},
   "source": [
    "### Explore how the regularized barycenters are defined, try to apply them to the problem"
   ]
  },
  {
   "cell_type": "markdown",
   "metadata": {},
   "source": [
    "### Use the regularized transport maps instead of usual ones"
   ]
  }
 ],
 "metadata": {
  "kernelspec": {
   "display_name": "Python 3",
   "language": "python",
   "name": "python3"
  },
  "language_info": {
   "codemirror_mode": {
    "name": "ipython",
    "version": 3
   },
   "file_extension": ".py",
   "mimetype": "text/x-python",
   "name": "python",
   "nbconvert_exporter": "python",
   "pygments_lexer": "ipython3",
   "version": "3.6.3"
  }
 },
 "nbformat": 4,
 "nbformat_minor": 2
}
