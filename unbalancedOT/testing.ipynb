{
 "cells": [
  {
   "cell_type": "code",
   "execution_count": 24,
   "metadata": {},
   "outputs": [],
   "source": [
    "from model import TMapper, PhiMapper, OmegaMapper, UnbalancedLoss\n",
    "import torch"
   ]
  },
  {
   "cell_type": "code",
   "execution_count": 30,
   "metadata": {},
   "outputs": [],
   "source": [
    "from model import Hellinger, Jensen_Shannon, KL_dual, Pearson_xi"
   ]
  },
  {
   "cell_type": "code",
   "execution_count": 25,
   "metadata": {},
   "outputs": [],
   "source": [
    "import torch.nn.functional as F"
   ]
  },
  {
   "cell_type": "code",
   "execution_count": 28,
   "metadata": {},
   "outputs": [],
   "source": [
    "def cost_matrix(first:torch.Tensor, second:torch.Tensor):\n",
    "    return torch.pairwise_distance(first.unsqueeze(2), second)\n",
    "\n",
    "def mass_variation(s):\n",
    "    return 0.01 * s"
   ]
  },
  {
   "cell_type": "code",
   "execution_count": 27,
   "metadata": {},
   "outputs": [],
   "source": [
    "T = TMapper(10, 5)\n",
    "Xi = PhiMapper(10, 1)\n",
    "f = OmegaMapper(5, 1)\n",
    "loss = UnbalancedLoss(10, 5)\n",
    "w_optim = torch.optim.SGD(f.parameters(), lr=1e-2)\n",
    "t_optim = torch.optim.SGD(T.parameters(), lr=1e-2)\n",
    "xi_optim = torch.optim.SGD(Xi.parameters(), lr=1e-2)"
   ]
  },
  {
   "cell_type": "code",
   "execution_count": 31,
   "metadata": {},
   "outputs": [],
   "source": [
    "def train_loop(data_loader: torch.utils.data.DataLoader):\n",
    "    for X, Z, Y in data_loader:\n",
    "        \n",
    "        w_optim.zero_grad()\n",
    "        t_optim.zero_grad()\n",
    "        xi_optim.zero_grad()\n",
    "        \n",
    "        loss_value = -loss.compute(X, Z, Y, T(X, Z), Xi(X), f(Y), f(T(X, Z)))\n",
    "        print('-loss value {}'.format(loss_value))\n",
    "        loss_value.backward()\n",
    "        w_optim.step()\n",
    "        \n",
    "        t_optim.zero_grad()\n",
    "        xi_optim.zero_grad()\n",
    "        loss_value = loss.compute(X, Z, Y, T(X, Z), Xi(X), f(Y), f(T(X, Z)))\n",
    "        print('loss value {}'.format(loss_value))\n",
    "        loss_value.backward()\n",
    "        t_optim.step()\n",
    "        xi_optim.step()"
   ]
  }
 ],
 "metadata": {
  "kernelspec": {
   "display_name": "Python 3",
   "language": "python",
   "name": "python3"
  },
  "language_info": {
   "codemirror_mode": {
    "name": "ipython",
    "version": 3
   },
   "file_extension": ".py",
   "mimetype": "text/x-python",
   "name": "python",
   "nbconvert_exporter": "python",
   "pygments_lexer": "ipython3",
   "version": "3.6.6"
  }
 },
 "nbformat": 4,
 "nbformat_minor": 2
}
