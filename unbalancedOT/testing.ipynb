{
 "cells": [
  {
   "cell_type": "code",
   "execution_count": 1,
   "metadata": {},
   "outputs": [],
   "source": [
    "from model import TMapper, PhiMapper, OmegaMapper, UnbalancedLoss\n",
    "import torch\n",
    "from collections import Counter\n",
    "from tqdm import tqdm_notebook\n",
    "import numpy as np\n",
    "import matplotlib.pyplot as plt\n",
    "import seaborn as sns"
   ]
  },
  {
   "cell_type": "code",
   "execution_count": 2,
   "metadata": {},
   "outputs": [],
   "source": [
    "from model import Hellinger, Jensen_Shannon, KL_dual, Pearson_xi"
   ]
  },
  {
   "cell_type": "code",
   "execution_count": 3,
   "metadata": {},
   "outputs": [],
   "source": [
    "import torch.nn.functional as F\n",
    "import torchvision\n",
    "from torchvision.datasets import MNIST\n",
    "from torch.utils.data import Dataset, DataLoader"
   ]
  },
  {
   "cell_type": "code",
   "execution_count": 4,
   "metadata": {},
   "outputs": [],
   "source": [
    "def cost_matrix(x:torch.Tensor, y:torch.Tensor) -> torch.Tensor:\n",
    "    return torch.norm(x[:, None] - y, dim=2, p=2)\n",
    "\n",
    "def mass_variation(s):\n",
    "    return (s - 1)**2"
   ]
  },
  {
   "cell_type": "code",
   "execution_count": 5,
   "metadata": {},
   "outputs": [],
   "source": [
    "cuda=True"
   ]
  },
  {
   "cell_type": "code",
   "execution_count": 6,
   "metadata": {},
   "outputs": [],
   "source": [
    "if cuda:\n",
    "    T = TMapper(784, 784, hidden_dims=128).float().cuda()\n",
    "    Xi = PhiMapper(784, 1, hidden_dims=128).float().cuda()\n",
    "    f = OmegaMapper(784, 1, hidden_dims=128).float().cuda()\n",
    "else:\n",
    "    T = TMapper(784, 784, hidden_dims=128).float()\n",
    "    Xi = PhiMapper(784, 1, hidden_dims=128).float()\n",
    "    f = OmegaMapper(784, 1, hidden_dims=128).float()\n",
    "\n",
    "loss = UnbalancedLoss(1./30000, 1./30000, cost_matrix, mass_variation, Pearson_xi)\n",
    "w_optim = torch.optim.Adam(f.parameters())\n",
    "t_optim = torch.optim.Adam(T.parameters())\n",
    "xi_optim = torch.optim.Adam(Xi.parameters())"
   ]
  },
  {
   "cell_type": "code",
   "execution_count": 7,
   "metadata": {},
   "outputs": [],
   "source": [
    "sampler1 = torch.utils.data.SubsetRandomSampler(torch.arange(30000))\n",
    "sampler2 = torch.utils.data.SubsetRandomSampler(torch.arange(30000, 60000))"
   ]
  },
  {
   "cell_type": "code",
   "execution_count": 8,
   "metadata": {},
   "outputs": [],
   "source": [
    "def target_transform(x):\n",
    "    return x.type(torch.double).view(1)"
   ]
  },
  {
   "cell_type": "code",
   "execution_count": 9,
   "metadata": {},
   "outputs": [],
   "source": [
    "class ReshapeTransform:\n",
    "    def __init__(self, new_size):\n",
    "        self.new_size = new_size\n",
    "\n",
    "    def __call__(self, img):\n",
    "        return torch.reshape(img, self.new_size)"
   ]
  },
  {
   "cell_type": "code",
   "execution_count": 10,
   "metadata": {},
   "outputs": [],
   "source": [
    "transform1 = torchvision.transforms.Compose([\n",
    "    torchvision.transforms.ToTensor(),\n",
    "    ReshapeTransform((-1, ))\n",
    "])\n",
    "\n",
    "transform2 = torchvision.transforms.Compose([\n",
    "    #torchvision.transforms.RandomAffine((-45, 45)),\n",
    "    torchvision.transforms.ToTensor(),\n",
    "    ReshapeTransform((-1, ))\n",
    "])\n",
    "\n",
    "\n",
    "dataset1 = MNIST(root='.', download=True, train=True, transform=transform1, target_transform=target_transform)\n",
    "dataset2 = MNIST(root='.', download=True, train=True, transform=transform2, target_transform=target_transform)\n",
    "\n",
    "dl_1 = DataLoader(dataset1, batch_size=800, sampler=sampler1)\n",
    "dl_2 = DataLoader(dataset2, batch_size=800, sampler=sampler2)"
   ]
  },
  {
   "cell_type": "code",
   "execution_count": 11,
   "metadata": {},
   "outputs": [
    {
     "data": {
      "text/plain": [
       "[(1, 3423),\n",
       " (7, 3107),\n",
       " (3, 3073),\n",
       " (9, 3003),\n",
       " (6, 2975),\n",
       " (0, 2961),\n",
       " (2, 2948),\n",
       " (4, 2926),\n",
       " (8, 2875),\n",
       " (5, 2709)]"
      ]
     },
     "execution_count": 11,
     "metadata": {},
     "output_type": "execute_result"
    }
   ],
   "source": [
    "c1 = Counter(dataset1.train_labels[:30000].tolist())\n",
    "c1.most_common(len(c1))"
   ]
  },
  {
   "cell_type": "code",
   "execution_count": 12,
   "metadata": {},
   "outputs": [
    {
     "data": {
      "text/plain": [
       "[(1, 3319),\n",
       " (7, 3158),\n",
       " (3, 3058),\n",
       " (2, 3010),\n",
       " (8, 2976),\n",
       " (0, 2962),\n",
       " (9, 2946),\n",
       " (6, 2943),\n",
       " (4, 2916),\n",
       " (5, 2712)]"
      ]
     },
     "execution_count": 12,
     "metadata": {},
     "output_type": "execute_result"
    }
   ],
   "source": [
    "c2 = Counter(dataset2.train_labels[30000:].tolist())\n",
    "c2.most_common(len(c2))"
   ]
  },
  {
   "cell_type": "code",
   "execution_count": 13,
   "metadata": {},
   "outputs": [],
   "source": [
    "def train_loop(data_loader_1: torch.utils.data.DataLoader, data_loader_2: torch.utils.data.DataLoader, cuda=cuda):\n",
    "    loss_value_1 = []\n",
    "    loss_value_2 = []\n",
    "    for i in tqdm_notebook(range(100)):\n",
    "        for (X, Z_1), (Y, Z) in zip(data_loader_1, data_loader_2):\n",
    "\n",
    "            if cuda:\n",
    "                X = X.float().cuda()\n",
    "                Y = Y.float().cuda()\n",
    "                Z = Z.float().cuda()\n",
    "                \n",
    "            else:\n",
    "                X = X.float()\n",
    "                Y = Y.float()\n",
    "                Z = Z.float()\n",
    "                \n",
    "            w_optim.zero_grad()\n",
    "            t_optim.zero_grad()\n",
    "            xi_optim.zero_grad()\n",
    "            loss_value = -loss.compute(X, Z, Y, T(X, Z), Xi(X), f(Y), f(T(X, Z)))\n",
    "            loss_value_1.append(loss_value)\n",
    "        #    print('-loss value {}'.format(loss_value))\n",
    "            loss_value.backward()\n",
    "            w_optim.step()\n",
    "\n",
    "            t_optim.zero_grad()\n",
    "            xi_optim.zero_grad()\n",
    "            loss_value = loss.compute(X, Z, Y, T(X, Z), Xi(X), f(Y), f(T(X, Z)))\n",
    "            loss_value_2.append(loss_value)\n",
    "         #   print('loss value {}'.format(loss_value))\n",
    "            loss_value.backward()\n",
    "            t_optim.step()\n",
    "            xi_optim.step()\n",
    "    return loss_value_1, loss_value_2"
   ]
  },
  {
   "cell_type": "code",
   "execution_count": 14,
   "metadata": {},
   "outputs": [
    {
     "data": {
      "application/vnd.jupyter.widget-view+json": {
       "model_id": "a34a0eb61c5d4cd6a4aa2e5fc0b6fd8b",
       "version_major": 2,
       "version_minor": 0
      },
      "text/plain": [
       "HBox(children=(IntProgress(value=0), HTML(value='')))"
      ]
     },
     "metadata": {},
     "output_type": "display_data"
    },
    {
     "name": "stderr",
     "output_type": "stream",
     "text": [
      "/home/grapefroot/datascience3/lib/python3.6/site-packages/torch/nn/modules/container.py:92: UserWarning: Implicit dimension choice for softmax has been deprecated. Change the call to include dim=X as an argument.\n",
      "  input = module(input)\n"
     ]
    },
    {
     "name": "stdout",
     "output_type": "stream",
     "text": [
      "\n"
     ]
    }
   ],
   "source": [
    "lv1, lv2 = train_loop(dl_1, dl_2)"
   ]
  },
  {
   "cell_type": "code",
   "execution_count": 18,
   "metadata": {},
   "outputs": [
    {
     "name": "stderr",
     "output_type": "stream",
     "text": [
      "/home/grapefroot/datascience3/lib/python3.6/site-packages/torch/nn/modules/container.py:92: UserWarning: Implicit dimension choice for softmax has been deprecated. Change the call to include dim=X as an argument.\n",
      "  input = module(input)\n"
     ]
    },
    {
     "data": {
      "image/png": "[encoded data removed]",
      "text/plain": [
       "<Figure size 432x288 with 1 Axes>"
      ]
     },
     "metadata": {},
     "output_type": "display_data"
    }
   ],
   "source": [
    "mapped = T(torch.cat((dataset1[0][0].view(1, -1), torch.tensor(1.).view(1, 1)), dim=1).cuda())\n",
    "\n",
    "plt.imshow(mapped.view(28, 28).detach().cpu().numpy(), cmap=plt.cm.gray)\n",
    "plt.show()"
   ]
  },
  {
   "cell_type": "code",
   "execution_count": 19,
   "metadata": {},
   "outputs": [],
   "source": [
    "lv1 = np.array(lv1)\n",
    "lv2 = np.array(lv2)"
   ]
  },
  {
   "cell_type": "code",
   "execution_count": 20,
   "metadata": {},
   "outputs": [
    {
     "data": {
      "text/plain": [
       "[<matplotlib.lines.Line2D at 0x7fc280206080>]"
      ]
     },
     "execution_count": 20,
     "metadata": {},
     "output_type": "execute_result"
    },
    {
     "data": {
      "image/png": "[encoded data removed]",
      "text/plain": [
       "<Figure size 432x288 with 1 Axes>"
      ]
     },
     "metadata": {},
     "output_type": "display_data"
    }
   ],
   "source": [
    "plt.plot(lv1)\n",
    "plt.plot(lv2)"
   ]
  },
  {
   "cell_type": "code",
   "execution_count": null,
   "metadata": {},
   "outputs": [],
   "source": []
  }
 ],
 "metadata": {
  "kernelspec": {
   "display_name": "Python 3",
   "language": "python",
   "name": "python3"
  },
  "language_info": {
   "codemirror_mode": {
    "name": "ipython",
    "version": 3
   },
   "file_extension": ".py",
   "mimetype": "text/x-python",
   "name": "python",
   "nbconvert_exporter": "python",
   "pygments_lexer": "ipython3",
   "version": "3.6.6"
  }
 },
 "nbformat": 4,
 "nbformat_minor": 2
}
