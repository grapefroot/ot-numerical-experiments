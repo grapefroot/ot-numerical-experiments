{
 "cells": [
  {
   "cell_type": "code",
   "execution_count": 1,
   "metadata": {},
   "outputs": [],
   "source": [
    "import ot\n",
    "import pandas as pd\n",
    "import matplotlib.pyplot as plt\n",
    "import numpy as np\n",
    "import scipy\n",
    "from sklearn.base import clone\n",
    "import seaborn as sns\n",
    "\n",
    "import sklearn\n",
    "from sklearn.preprocessing import LabelBinarizer, LabelEncoder, StandardScaler"
   ]
  },
  {
   "cell_type": "markdown",
   "metadata": {},
   "source": [
    "### Generate the problem / prepare selected datasets"
   ]
  },
  {
   "cell_type": "code",
   "execution_count": 2,
   "metadata": {},
   "outputs": [],
   "source": [
    "nrows = 10000"
   ]
  },
  {
   "cell_type": "code",
   "execution_count": 3,
   "metadata": {},
   "outputs": [],
   "source": [
    "numerical_features_index = [0, 2, 4, 10, 11, 12]\n",
    "\n",
    "data_train = pd.read_csv('../datasets/Adult income dataset/adult.data', nrows=nrows, header=None)\n",
    "y_train = data_train.loc[:, data_train.columns[-1]]\n",
    "gender_train = data_train.loc[:, data_train.columns[9]]\n",
    "\n",
    "\n",
    "data_test = pd.read_csv('../datasets/Adult income dataset/adult.test', skiprows=1, header=None)\n",
    "y_test = data_test.loc[:, data_train.columns[-1]]\n",
    "gender_test = data_test.loc[:, data_test.columns[9]]\n",
    "\n",
    "data_train.drop(data_train.columns.difference(numerical_features_index), axis=1, inplace=True)\n",
    "data_test.drop(data_test.columns.difference(numerical_features_index), axis=1, inplace=True)\n",
    "data_train = data_train.astype(np.float64)\n",
    "data_test = data_test.astype(np.float64)\n",
    "\n",
    "\n",
    "\n",
    "gender_train = gender_train.apply(lambda x: x.strip())\n",
    "gender_test = gender_test.apply(lambda x: x.strip())"
   ]
  },
  {
   "cell_type": "code",
   "execution_count": 4,
   "metadata": {},
   "outputs": [
    {
     "data": {
      "text/plain": [
       "(10000, 6)"
      ]
     },
     "execution_count": 4,
     "metadata": {},
     "output_type": "execute_result"
    }
   ],
   "source": [
    "data_train.shape"
   ]
  },
  {
   "cell_type": "code",
   "execution_count": 5,
   "metadata": {},
   "outputs": [],
   "source": [
    "data_train.drop_duplicates(inplace=True)\n",
    "y_train = y_train.loc[data_train.index]\n",
    "gender_train = gender_train.loc[data_train.index]\n",
    "\n",
    "assert data_train.shape[0] == y_train.shape[0] == gender_train.shape[0]"
   ]
  },
  {
   "cell_type": "code",
   "execution_count": 6,
   "metadata": {},
   "outputs": [],
   "source": [
    "binarizer = LabelBinarizer()\n",
    "y_train = binarizer.fit_transform(y_train).ravel()\n",
    "y_test = binarizer.fit_transform(y_test).ravel()"
   ]
  },
  {
   "cell_type": "code",
   "execution_count": 7,
   "metadata": {},
   "outputs": [],
   "source": [
    "gender_binarizer = LabelBinarizer()\n",
    "gender_binary = gender_binarizer.fit_transform(gender_test.values).ravel()"
   ]
  },
  {
   "cell_type": "code",
   "execution_count": 8,
   "metadata": {},
   "outputs": [],
   "source": [
    "scaler = StandardScaler()\n",
    "data_train = scaler.fit_transform(data_train)\n",
    "data_test = scaler.transform(data_test)"
   ]
  },
  {
   "cell_type": "code",
   "execution_count": 9,
   "metadata": {},
   "outputs": [],
   "source": [
    "from sklearn.tree import DecisionTreeClassifier\n",
    "from sklearn.ensemble import GradientBoostingClassifier, RandomForestClassifier\n",
    "from sklearn.linear_model import LogisticRegression\n",
    "from sklearn.metrics import accuracy_score, f1_score"
   ]
  },
  {
   "cell_type": "code",
   "execution_count": 10,
   "metadata": {},
   "outputs": [],
   "source": [
    "random_seed=777 #tri topora"
   ]
  },
  {
   "cell_type": "code",
   "execution_count": 11,
   "metadata": {},
   "outputs": [],
   "source": [
    "clf_base = RandomForestClassifier(n_estimators=100, random_state=random_seed)"
   ]
  },
  {
   "cell_type": "code",
   "execution_count": 12,
   "metadata": {},
   "outputs": [
    {
     "data": {
      "text/plain": [
       "RandomForestClassifier(bootstrap=True, class_weight=None, criterion='gini',\n",
       "            max_depth=None, max_features='auto', max_leaf_nodes=None,\n",
       "            min_impurity_decrease=0.0, min_impurity_split=None,\n",
       "            min_samples_leaf=1, min_samples_split=2,\n",
       "            min_weight_fraction_leaf=0.0, n_estimators=100, n_jobs=None,\n",
       "            oob_score=False, random_state=777, verbose=0, warm_start=False)"
      ]
     },
     "execution_count": 12,
     "metadata": {},
     "output_type": "execute_result"
    }
   ],
   "source": [
    "clf = clone(clf_base)\n",
    "\n",
    "clf.fit(data_train, y_train)"
   ]
  },
  {
   "cell_type": "code",
   "execution_count": 13,
   "metadata": {},
   "outputs": [
    {
     "name": "stdout",
     "output_type": "stream",
     "text": [
      "Initial accuracy of classification: 0.8090412136846631\n"
     ]
    }
   ],
   "source": [
    "print('Initial accuracy of classification: {}'.format(accuracy_score(y_test, clf.predict(data_test))))"
   ]
  },
  {
   "cell_type": "code",
   "execution_count": 14,
   "metadata": {},
   "outputs": [],
   "source": [
    "male_entries_index = gender_train[gender_train == 'Male'].index\n",
    "female_entries_index = gender_train[gender_train == 'Female'].index\n",
    "\n",
    "male_entries_test_index = gender_test[gender_test == 'Male'].index\n",
    "female_entries_test_index = gender_test[gender_test == 'Female'].index"
   ]
  },
  {
   "cell_type": "code",
   "execution_count": 15,
   "metadata": {},
   "outputs": [],
   "source": [
    "n0 = data_train[gender_train == 'Male'].shape[0]\n",
    "n1 = data_train[gender_train == 'Female'].shape[0]\n",
    "\n",
    "emperical_histogram_male = np.ones_like(male_entries_index) / n0\n",
    "\n",
    "emperical_histogram_female = np.ones_like(female_entries_index) / n1"
   ]
  },
  {
   "cell_type": "code",
   "execution_count": 16,
   "metadata": {},
   "outputs": [],
   "source": [
    "C = ot.dist(data_train[gender_train == 'Male'], data_train[gender_train == 'Female'])"
   ]
  },
  {
   "cell_type": "code",
   "execution_count": 17,
   "metadata": {},
   "outputs": [
    {
     "name": "stdout",
     "output_type": "stream",
     "text": [
      "It.  |Err         \n",
      "-------------------\n",
      "    0|1.850697e-04|\n",
      "   10|5.221788e-05|\n",
      "   20|2.895549e-05|\n",
      "   30|1.919829e-05|\n",
      "   40|1.434194e-05|\n",
      "   50|1.178482e-05|\n",
      "   60|1.047958e-05|\n",
      "   70|9.758635e-06|\n",
      "   80|9.341115e-06|\n",
      "   90|9.107358e-06|\n",
      "  100|8.979259e-06|\n",
      "  110|8.898731e-06|\n",
      "  120|8.821199e-06|\n",
      "  130|8.684663e-06|\n",
      "  140|8.569615e-06|\n",
      "  150|8.451078e-06|\n",
      "  160|8.352225e-06|\n",
      "  170|8.341196e-06|\n",
      "  180|8.236339e-06|\n",
      "  190|8.048492e-06|\n",
      "It.  |Err         \n",
      "-------------------\n",
      "  200|7.868777e-06|\n",
      "  210|7.562363e-06|\n",
      "  220|7.235418e-06|\n",
      "  230|6.882378e-06|\n",
      "  240|6.532304e-06|\n",
      "  250|6.222793e-06|\n",
      "  260|5.728401e-06|\n",
      "  270|5.252081e-06|\n",
      "  280|4.890261e-06|\n",
      "  290|4.573833e-06|\n",
      "  300|4.275045e-06|\n",
      "  310|4.024359e-06|\n",
      "  320|3.791658e-06|\n",
      "  330|3.646768e-06|\n",
      "  340|3.444434e-06|\n",
      "  350|3.234942e-06|\n",
      "  360|3.048923e-06|\n",
      "  370|2.927148e-06|\n",
      "  380|2.815700e-06|\n",
      "  390|2.704101e-06|\n",
      "It.  |Err         \n",
      "-------------------\n",
      "  400|2.611868e-06|\n",
      "  410|2.533617e-06|\n",
      "  420|2.462909e-06|\n",
      "  430|2.401417e-06|\n",
      "  440|2.344011e-06|\n",
      "  450|2.291707e-06|\n",
      "  460|2.247971e-06|\n",
      "  470|2.212707e-06|\n",
      "  480|2.184579e-06|\n",
      "  490|2.164390e-06|\n",
      "  500|2.151450e-06|\n",
      "  510|2.143654e-06|\n",
      "  520|2.139082e-06|\n",
      "  530|2.136434e-06|\n",
      "  540|2.134917e-06|\n",
      "  550|2.134057e-06|\n",
      "  560|2.133572e-06|\n",
      "  570|2.133299e-06|\n",
      "  580|2.133144e-06|\n",
      "  590|2.133055e-06|\n",
      "Warning: numerical errors at iteration 593\n"
     ]
    },
    {
     "name": "stderr",
     "output_type": "stream",
     "text": [
      "/home/grapefroot/datascience3/lib/python3.6/site-packages/ot/bregman.py:371: RuntimeWarning: overflow encountered in true_divide\n",
      "  u = 1. / np.dot(Kp, v)\n"
     ]
    }
   ],
   "source": [
    "coupling1 = ot.sinkhorn(emperical_histogram_male, emperical_histogram_female, C, reg=0.1, numItermax=10000000, verbose=True)"
   ]
  },
  {
   "cell_type": "code",
   "execution_count": 18,
   "metadata": {},
   "outputs": [],
   "source": [
    "coupling = ot.emd(emperical_histogram_male, emperical_histogram_female, C, numItermax=1000000000)"
   ]
  },
  {
   "cell_type": "code",
   "execution_count": 19,
   "metadata": {},
   "outputs": [],
   "source": [
    "def confusion_matrix(predictions, protected_attribute):\n",
    "    n = predictions.shape[0]\n",
    "    a = np.sum((predictions == 0) & (protected_attribute == 0)) / n\n",
    "    b = np.sum((predictions == 1) & (protected_attribute == 0)) / n\n",
    "    c = np.sum((predictions == 0) & (protected_attribute == 1)) / n\n",
    "    d = np.sum((predictions == 1) & (protected_attribute == 1)) / n\n",
    "    return a, b, c, d\n",
    "      \n",
    "def balanced_error_rate(y_true, y_pred, protected_attributes):\n",
    "    pass"
   ]
  },
  {
   "cell_type": "code",
   "execution_count": 20,
   "metadata": {},
   "outputs": [],
   "source": [
    "def likelihood_ratio(y_predicted, protected):\n",
    "    #following https://arxiv.org/pdf/1412.3756.pdf\n",
    "    a, b, c, d = confusion_matrix(y_predicted, protected)\n",
    "    return d * (a + c) / c / (b + d)"
   ]
  },
  {
   "cell_type": "code",
   "execution_count": 21,
   "metadata": {},
   "outputs": [],
   "source": [
    "def disparate_impact(y_true, protected):\n",
    "    return 1. / likelihood_ratio(y_true, protected)"
   ]
  },
  {
   "cell_type": "code",
   "execution_count": 22,
   "metadata": {},
   "outputs": [],
   "source": [
    "def construct_map(weights, data_first, data_second, coupling):\n",
    "    weight_1, weight_2 = weights\n",
    " #   print(weights)\n",
    "    n0 = data_train[gender_train == 'Male'].shape[0]\n",
    "    n1 = data_train[gender_train == 'Female'].shape[0]\n",
    "    mapped_class_0 = weight_1 * data_first  + n0 * weight_2 * (coupling @ data_second)\n",
    "    mapped_class_1 = weight_1 * n1 * (coupling.T @ data_first) + weight_2 * data_second\n",
    "    return mapped_class_0, mapped_class_1"
   ]
  },
  {
   "cell_type": "code",
   "execution_count": 23,
   "metadata": {},
   "outputs": [],
   "source": [
    "def full_repair(data_first, data_second, y, coupling, weights=[0.5, 0.5]):\n",
    "    mapped_class_0, mapped_class_1 = construct_map(weights, data_first, data_second, coupling)\n",
    "    y_mapped_0 = y[gender_train == 'Male']\n",
    "    y_mapped_1 = y[gender_train == 'Female']\n",
    "    return np.concatenate((mapped_class_0, mapped_class_1)), np.concatenate((y_mapped_0, y_mapped_1))"
   ]
  },
  {
   "cell_type": "code",
   "execution_count": 24,
   "metadata": {},
   "outputs": [],
   "source": [
    "def partial_repair(interpolation_weight, data_first, data_second, y, coupling, weights=[0.5, 0.5]):\n",
    "    mapped_class_0, mapped_class_1 = construct_map(weights, data_first, data_second, coupling)\n",
    "    y_mapped_0 = y[gender_train == 'Male']\n",
    "    y_mapped_1 = y[gender_train == 'Female']\n",
    "    return np.concatenate(\n",
    "        (interpolation_weight * mapped_class_0 + (1 - interpolation_weight) * data_first, interpolation_weight * mapped_class_1 + (1 - interpolation_weight) * data_second)), np.concatenate((y_mapped_0, y_mapped_1))"
   ]
  },
  {
   "cell_type": "code",
   "execution_count": 25,
   "metadata": {},
   "outputs": [],
   "source": [
    "from tqdm import tqdm_notebook"
   ]
  },
  {
   "cell_type": "code",
   "execution_count": 26,
   "metadata": {},
   "outputs": [
    {
     "name": "stdout",
     "output_type": "stream",
     "text": [
      "class 0 size (3292, 6)\n",
      "class 1 size (6682, 6)\n"
     ]
    }
   ],
   "source": [
    "print('class 0 size {}'.format(data_train[gender_train == 'Female'].shape))\n",
    "print('class 1 size {}'.format(data_train[gender_train == 'Male'].shape))"
   ]
  },
  {
   "cell_type": "code",
   "execution_count": 27,
   "metadata": {},
   "outputs": [],
   "source": [
    "num = 100"
   ]
  },
  {
   "cell_type": "code",
   "execution_count": 28,
   "metadata": {},
   "outputs": [
    {
     "data": {
      "application/vnd.jupyter.widget-view+json": {
       "model_id": "11c1109cc8e04042b22261181598eddd",
       "version_major": 2,
       "version_minor": 0
      },
      "text/plain": [
       "HBox(children=(IntProgress(value=0), HTML(value='')))"
      ]
     },
     "metadata": {},
     "output_type": "display_data"
    },
    {
     "name": "stdout",
     "output_type": "stream",
     "text": [
      "\n"
     ]
    }
   ],
   "source": [
    "acs = []\n",
    "dims = []\n",
    "\n",
    "for repair_value in tqdm_notebook(np.linspace(0, 1, num=num)):\n",
    "    X_new, y_new = partial_repair(repair_value, data_train[gender_train == 'Male'], data_train[gender_train == 'Female'], y_train, coupling)\n",
    "    clf1 = clone(clf_base)\n",
    "    clf1.fit(X_new, y_new)\n",
    "    accuracy_sc = accuracy_score(y_test, clf1.predict(data_test))\n",
    "    disparate_im = disparate_impact(clf1.predict(data_test), gender_binary)\n",
    "    acs.append(accuracy_sc)\n",
    "    dims.append(disparate_im)"
   ]
  },
  {
   "cell_type": "code",
   "execution_count": 29,
   "metadata": {},
   "outputs": [
    {
     "data": {
      "application/vnd.jupyter.widget-view+json": {
       "model_id": "92258c2ef9a244689fe08b2fb21153c8",
       "version_major": 2,
       "version_minor": 0
      },
      "text/plain": [
       "HBox(children=(IntProgress(value=0), HTML(value='')))"
      ]
     },
     "metadata": {},
     "output_type": "display_data"
    },
    {
     "name": "stdout",
     "output_type": "stream",
     "text": [
      "\n"
     ]
    }
   ],
   "source": [
    "acs_1 = []\n",
    "dims_1 = []\n",
    "\n",
    "for repair_value in tqdm_notebook(np.linspace(0, 1, num=num)):\n",
    "    X_new, y_new = partial_repair(repair_value, data_train[gender_train == 'Male'], data_train[gender_train == 'Female'], y_train, coupling1)\n",
    "    clf1 = clone(clf_base)\n",
    "    clf1.fit(X_new, y_new)\n",
    "    accuracy_sc = accuracy_score(y_test, clf1.predict(data_test))\n",
    "    disparate_im = disparate_impact(clf1.predict(data_test), gender_binary)\n",
    "    acs_1.append(accuracy_sc)\n",
    "    dims_1.append(disparate_im)"
   ]
  },
  {
   "cell_type": "code",
   "execution_count": 30,
   "metadata": {},
   "outputs": [
    {
     "data": {
      "image/png": "[encoded data removed]",
      "text/plain": [
       "<Figure size 432x288 with 1 Axes>"
      ]
     },
     "metadata": {},
     "output_type": "display_data"
    }
   ],
   "source": [
    "with sns.axes_style('darkgrid'):\n",
    "    plt.plot(np.linspace(0, 1, num), acs, label='ot coupling')\n",
    "    plt.plot(np.linspace(0, 1, num), acs_1, label='entropic regularized ot coupling')\n",
    "    plt.legend()"
   ]
  },
  {
   "cell_type": "code",
   "execution_count": 31,
   "metadata": {},
   "outputs": [
    {
     "data": {
      "image/png": "[encoded data removed]",
      "text/plain": [
       "<Figure size 432x288 with 1 Axes>"
      ]
     },
     "metadata": {},
     "output_type": "display_data"
    }
   ],
   "source": [
    "with sns.axes_style('darkgrid'):\n",
    "    plt.plot(np.linspace(0, 1, num), dims, label='ot coupling')\n",
    "    plt.plot(np.linspace(0, 1, num), dims_1, label='entropic regularized ot coupling')\n",
    "    plt.legend()"
   ]
  },
  {
   "cell_type": "code",
   "execution_count": 40,
   "metadata": {},
   "outputs": [],
   "source": [
    "X_new, y_new = partial_repair(0.6, data_train[gender_train == 'Male'], data_train[gender_train == 'Female'], y_train, coupling1)"
   ]
  },
  {
   "cell_type": "code",
   "execution_count": 41,
   "metadata": {},
   "outputs": [
    {
     "data": {
      "text/plain": [
       "0.8417235528862622"
      ]
     },
     "execution_count": 41,
     "metadata": {},
     "output_type": "execute_result"
    }
   ],
   "source": [
    "disparate_impact(clf.predict(data_test), gender_binary)"
   ]
  },
  {
   "cell_type": "code",
   "execution_count": 42,
   "metadata": {},
   "outputs": [
    {
     "data": {
      "text/plain": [
       "0.810576745900129"
      ]
     },
     "execution_count": 42,
     "metadata": {},
     "output_type": "execute_result"
    }
   ],
   "source": [
    "clf1 = clone(clf_base)\n",
    "clf1.fit(X_new, y_new)\n",
    "\n",
    "accuracy_score(y_test, clf1.predict(data_test))"
   ]
  },
  {
   "cell_type": "code",
   "execution_count": 43,
   "metadata": {},
   "outputs": [
    {
     "data": {
      "text/plain": [
       "0.832013066733753"
      ]
     },
     "execution_count": 43,
     "metadata": {},
     "output_type": "execute_result"
    }
   ],
   "source": [
    "disparate_impact(clf1.predict(data_test), gender_binary)"
   ]
  },
  {
   "cell_type": "markdown",
   "metadata": {},
   "source": [
    "### Show that different solutions for the same transporation problem can have different fairness"
   ]
  },
  {
   "cell_type": "markdown",
   "metadata": {},
   "source": [
    "### Explore how the regularized barycenters are defined, try to apply them to the problem"
   ]
  },
  {
   "cell_type": "markdown",
   "metadata": {},
   "source": [
    "### Use the regularized transport maps instead of usual ones"
   ]
  }
 ],
 "metadata": {
  "kernelspec": {
   "display_name": "Python 3",
   "language": "python",
   "name": "python3"
  },
  "language_info": {
   "codemirror_mode": {
    "name": "ipython",
    "version": 3
   },
   "file_extension": ".py",
   "mimetype": "text/x-python",
   "name": "python",
   "nbconvert_exporter": "python",
   "pygments_lexer": "ipython3",
   "version": "3.6.6"
  }
 },
 "nbformat": 4,
 "nbformat_minor": 2
}
