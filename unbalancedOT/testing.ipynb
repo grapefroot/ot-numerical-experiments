{
 "cells": [
  {
   "cell_type": "code",
   "execution_count": 4,
   "metadata": {},
   "outputs": [],
   "source": [
    "from model import TMapper, PhiMapper, OmegaMapper, UnbalancedLoss\n",
    "import torch"
   ]
  },
  {
   "cell_type": "code",
   "execution_count": 11,
   "metadata": {},
   "outputs": [],
   "source": [
    "T = TMapper(10, 5)\n",
    "Xi = PhiMapper(10, 1)\n",
    "f = OmegaMapper(5, 1)\n",
    "#loss = UnbalancedLoss(10, 5)\n",
    "w_optim = torch.optim.SGD(f.parameters(), lr=1e-2)\n",
    "t_optim = torch.optim.SGD(T.parameters(), lr=1e-2)\n",
    "xi_optim = torch.optim.SGD(Xi.parameters(), lr=1e-2)"
   ]
  },
  {
   "cell_type": "code",
   "execution_count": null,
   "metadata": {},
   "outputs": [],
   "source": [
    "def train_loop(data_loader: torch.utils.data.DataLoader):\n",
    "    for X, Z, Y in data_loader:\n",
    "        w_optim.zero_grad()\n",
    "        txi_optim.zero_grad()\n",
    "        loss_value = loss.compute(X, Z, Y, T(X, Z), Xi(X), f(Y), f(T(X, Z)))\n",
    "        loss_value.backward()\n",
    "        w_optim.step()\n",
    "        txi_optim.step()"
   ]
  }
 ],
 "metadata": {
  "kernelspec": {
   "display_name": "Python 3",
   "language": "python",
   "name": "python3"
  },
  "language_info": {
   "codemirror_mode": {
    "name": "ipython",
    "version": 3
   },
   "file_extension": ".py",
   "mimetype": "text/x-python",
   "name": "python",
   "nbconvert_exporter": "python",
   "pygments_lexer": "ipython3",
   "version": "3.6.6"
  }
 },
 "nbformat": 4,
 "nbformat_minor": 2
}
