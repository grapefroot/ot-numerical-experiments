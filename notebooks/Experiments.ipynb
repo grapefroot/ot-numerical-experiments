{
 "cells": [
  {
   "cell_type": "code",
   "execution_count": 60,
   "metadata": {},
   "outputs": [],
   "source": [
    "import ot\n",
    "import pandas as pd\n",
    "import matplotlib.pyplot as plt\n",
    "import numpy as np\n",
    "import scipy\n",
    "from sklearn.base import clone\n",
    "import seaborn as sns\n",
    "\n",
    "import sklearn\n",
    "from sklearn.preprocessing import LabelBinarizer, LabelEncoder, StandardScaler"
   ]
  },
  {
   "cell_type": "markdown",
   "metadata": {},
   "source": [
    "### Generate the problem / prepare selected datasets"
   ]
  },
  {
   "cell_type": "code",
   "execution_count": 2,
   "metadata": {},
   "outputs": [],
   "source": [
    "nrows = 10000"
   ]
  },
  {
   "cell_type": "code",
   "execution_count": 3,
   "metadata": {},
   "outputs": [],
   "source": [
    "numerical_features_index = [0, 2, 4, 10, 11, 12]\n",
    "\n",
    "data_train = pd.read_csv('../datasets/Adult income dataset/adult.data', nrows=nrows, header=None)\n",
    "y_train = data_train.loc[:, data_train.columns[-1]]\n",
    "gender_train = data_train.loc[:, data_train.columns[9]]\n",
    "\n",
    "\n",
    "data_test = pd.read_csv('../datasets/Adult income dataset/adult.test', skiprows=1, header=None)\n",
    "y_test = data_test.loc[:, data_train.columns[-1]]\n",
    "gender_test = data_test.loc[:, data_test.columns[9]]\n",
    "\n",
    "data_train.drop(data_train.columns.difference(numerical_features_index), axis=1, inplace=True)\n",
    "data_test.drop(data_test.columns.difference(numerical_features_index), axis=1, inplace=True)\n",
    "data_train = data_train.astype(np.float64)\n",
    "data_test = data_test.astype(np.float64)\n",
    "\n",
    "\n",
    "\n",
    "gender_train = gender_train.apply(lambda x: x.strip())\n",
    "gender_test = gender_test.apply(lambda x: x.strip())"
   ]
  },
  {
   "cell_type": "code",
   "execution_count": 4,
   "metadata": {},
   "outputs": [
    {
     "data": {
      "text/plain": [
       "(10000, 6)"
      ]
     },
     "execution_count": 4,
     "metadata": {},
     "output_type": "execute_result"
    }
   ],
   "source": [
    "data_train.shape"
   ]
  },
  {
   "cell_type": "code",
   "execution_count": 5,
   "metadata": {},
   "outputs": [],
   "source": [
    "data_train.drop_duplicates(inplace=True)\n",
    "y_train = y_train.loc[data_train.index]\n",
    "gender_train = gender_train.loc[data_train.index]\n",
    "\n",
    "assert data_train.shape[0] == y_train.shape[0] == gender_train.shape[0]"
   ]
  },
  {
   "cell_type": "code",
   "execution_count": 6,
   "metadata": {},
   "outputs": [],
   "source": [
    "binarizer = LabelBinarizer()\n",
    "y_train = binarizer.fit_transform(y_train).ravel()\n",
    "y_test = binarizer.fit_transform(y_test).ravel()"
   ]
  },
  {
   "cell_type": "code",
   "execution_count": 7,
   "metadata": {},
   "outputs": [],
   "source": [
    "gender_binarizer = LabelBinarizer()\n",
    "gender_binary = gender_binarizer.fit_transform(gender_test.values).ravel()"
   ]
  },
  {
   "cell_type": "code",
   "execution_count": 8,
   "metadata": {},
   "outputs": [],
   "source": [
    "scaler = StandardScaler()\n",
    "data_train = scaler.fit_transform(data_train)\n",
    "data_test = scaler.transform(data_test)"
   ]
  },
  {
   "cell_type": "code",
   "execution_count": 9,
   "metadata": {},
   "outputs": [],
   "source": [
    "from sklearn.tree import DecisionTreeClassifier\n",
    "from sklearn.ensemble import GradientBoostingClassifier, RandomForestClassifier\n",
    "from sklearn.linear_model import LogisticRegression\n",
    "from sklearn.metrics import accuracy_score, f1_score"
   ]
  },
  {
   "cell_type": "code",
   "execution_count": 10,
   "metadata": {},
   "outputs": [],
   "source": [
    "clf_base = RandomForestClassifier(n_estimators=100)"
   ]
  },
  {
   "cell_type": "code",
   "execution_count": 11,
   "metadata": {},
   "outputs": [
    {
     "data": {
      "text/plain": [
       "RandomForestClassifier(bootstrap=True, class_weight=None, criterion='gini',\n",
       "            max_depth=None, max_features='auto', max_leaf_nodes=None,\n",
       "            min_impurity_decrease=0.0, min_impurity_split=None,\n",
       "            min_samples_leaf=1, min_samples_split=2,\n",
       "            min_weight_fraction_leaf=0.0, n_estimators=100, n_jobs=None,\n",
       "            oob_score=False, random_state=None, verbose=0,\n",
       "            warm_start=False)"
      ]
     },
     "execution_count": 11,
     "metadata": {},
     "output_type": "execute_result"
    }
   ],
   "source": [
    "clf = clone(clf_base)\n",
    "\n",
    "clf.fit(data_train, y_train)"
   ]
  },
  {
   "cell_type": "code",
   "execution_count": 12,
   "metadata": {},
   "outputs": [
    {
     "name": "stdout",
     "output_type": "stream",
     "text": [
      "Initial accuracy of classification: 0.8103310607456544\n"
     ]
    }
   ],
   "source": [
    "print('Initial accuracy of classification: {}'.format(accuracy_score(y_test, clf.predict(data_test))))"
   ]
  },
  {
   "cell_type": "code",
   "execution_count": 13,
   "metadata": {},
   "outputs": [],
   "source": [
    "male_entries_index = gender_train[gender_train == 'Male'].index\n",
    "female_entries_index = gender_train[gender_train == 'Female'].index\n",
    "\n",
    "male_entries_test_index = gender_test[gender_test == 'Male'].index\n",
    "female_entries_test_index = gender_test[gender_test == 'Female'].index"
   ]
  },
  {
   "cell_type": "code",
   "execution_count": 14,
   "metadata": {},
   "outputs": [],
   "source": [
    "n0 = data_train[gender_train == 'Male'].shape[0]\n",
    "n1 = data_train[gender_train == 'Female'].shape[0]\n",
    "\n",
    "emperical_histogram_male = np.ones_like(male_entries_index) / n0\n",
    "\n",
    "emperical_histogram_female = np.ones_like(female_entries_index) / n1"
   ]
  },
  {
   "cell_type": "code",
   "execution_count": 15,
   "metadata": {},
   "outputs": [],
   "source": [
    "C = ot.dist(data_train[gender_train == 'Male'], data_train[gender_train == 'Female'])"
   ]
  },
  {
   "cell_type": "code",
   "execution_count": 65,
   "metadata": {},
   "outputs": [
    {
     "name": "stderr",
     "output_type": "stream",
     "text": [
      "/home/grapefroot/datascience3/lib/python3.6/site-packages/ot/bregman.py:370: RuntimeWarning: divide by zero encountered in true_divide\n",
      "  v = np.divide(b, KtransposeU)\n",
      "/home/grapefroot/datascience3/lib/python3.6/site-packages/ot/bregman.py:370: RuntimeWarning: overflow encountered in true_divide\n",
      "  v = np.divide(b, KtransposeU)\n"
     ]
    },
    {
     "name": "stdout",
     "output_type": "stream",
     "text": [
      "Warning: numerical errors at iteration 0\n"
     ]
    }
   ],
   "source": [
    "coupling = ot.sinkhorn(emperical_histogram_male, emperical_histogram_female, C, reg=1e-4, numItermax=10000000)"
   ]
  },
  {
   "cell_type": "code",
   "execution_count": 66,
   "metadata": {},
   "outputs": [],
   "source": [
    "coupling1 = ot.emd(emperical_histogram_male, emperical_histogram_female, C, numItermax=1000000000)"
   ]
  },
  {
   "cell_type": "code",
   "execution_count": 67,
   "metadata": {},
   "outputs": [],
   "source": [
    "def confusion_matrix(predictions, protected_attribute):\n",
    "    n = predictions.shape[0]\n",
    "    a = np.sum((predictions == 0) & (protected_attribute == 0)) / n\n",
    "    b = np.sum((predictions == 1) & (protected_attribute == 0)) / n\n",
    "    c = np.sum((predictions == 0) & (protected_attribute == 1)) / n\n",
    "    d = np.sum((predictions == 1) & (protected_attribute == 1)) / n\n",
    "    return a, b, c, d\n",
    "      \n",
    "def balanced_error_rate(y_true, y_pred, protected_attributes):\n",
    "    pass"
   ]
  },
  {
   "cell_type": "code",
   "execution_count": 68,
   "metadata": {},
   "outputs": [],
   "source": [
    "def likelihood_ratio(y_predicted, protected):\n",
    "    #following https://arxiv.org/pdf/1412.3756.pdf\n",
    "    a, b, c, d = confusion_matrix(y_predicted, protected)\n",
    "    return d * (a + c) / c / (b + d)"
   ]
  },
  {
   "cell_type": "code",
   "execution_count": 69,
   "metadata": {},
   "outputs": [],
   "source": [
    "def disparate_impact(y_true, protected):\n",
    "    return 1. / likelihood_ratio(y_true, protected)"
   ]
  },
  {
   "cell_type": "code",
   "execution_count": 70,
   "metadata": {},
   "outputs": [],
   "source": [
    "def construct_map(weights, data_first, data_second, coupling):\n",
    "    weight_1, weight_2 = weights\n",
    "    print(weights)\n",
    "    n0 = data_train[gender_train == 'Male'].shape[0]\n",
    "    n1 = data_train[gender_train == 'Female'].shape[0]\n",
    "    mapped_class_0 = weight_1 * data_first  + n0 * weight_2 * (coupling @ data_second)\n",
    "    mapped_class_1 = weight_1 * n1 * (coupling.T @ data_first) + weight_2 * data_second\n",
    "    return mapped_class_0, mapped_class_1"
   ]
  },
  {
   "cell_type": "code",
   "execution_count": 71,
   "metadata": {},
   "outputs": [],
   "source": [
    "def transform_dataset(weights, data_first, data_second, y, coupling):\n",
    "    mapped_class_0, mapped_class_1 = construct_map(weights, data_first, data_second, coupling)\n",
    "    y_mapped_0 = y[gender_train == 'Male']\n",
    "    y_mapped_1 = y[gender_train == 'Female']\n",
    "    return np.concatenate((mapped_class_0, mapped_class_1)), np.concatenate((y_mapped_0, y_mapped_1))"
   ]
  },
  {
   "cell_type": "code",
   "execution_count": 72,
   "metadata": {},
   "outputs": [],
   "source": [
    "from tqdm import tqdm_notebook"
   ]
  },
  {
   "cell_type": "code",
   "execution_count": 73,
   "metadata": {},
   "outputs": [
    {
     "name": "stdout",
     "output_type": "stream",
     "text": [
      "class 0 size (3292, 6)\n",
      "class 1 size (6682, 6)\n"
     ]
    }
   ],
   "source": [
    "print('class 0 size {}'.format(data_train[gender_train == 'Female'].shape))\n",
    "print('class 1 size {}'.format(data_train[gender_train == 'Male'].shape))"
   ]
  },
  {
   "cell_type": "code",
   "execution_count": 75,
   "metadata": {},
   "outputs": [
    {
     "data": {
      "application/vnd.jupyter.widget-view+json": {
       "model_id": "c685243ba3ff47f589a6c62aed54b516",
       "version_major": 2,
       "version_minor": 0
      },
      "text/plain": [
       "HBox(children=(IntProgress(value=0), HTML(value='')))"
      ]
     },
     "metadata": {},
     "output_type": "display_data"
    },
    {
     "name": "stdout",
     "output_type": "stream",
     "text": [
      "[0.0, 1.0]\n",
      "0.0\n",
      "Accuracy score 0.7973711688471224\n",
      "Disparate impact 0.8690769660180513\n",
      "[0.010101010101010102, 0.98989898989899]\n",
      "0.010101010101010102\n",
      "Accuracy score 0.7898163503470302\n",
      "Disparate impact 0.8725414539470138\n",
      "[0.020202020202020204, 0.9797979797979798]\n",
      "0.020202020202020204\n",
      "Accuracy score 0.7890792948836066\n",
      "Disparate impact 0.8792422250660907\n",
      "[0.030303030303030304, 0.9696969696969697]\n",
      "0.030303030303030304\n",
      "Accuracy score 0.7878508691112339\n",
      "Disparate impact 0.8759694068567148\n",
      "[0.04040404040404041, 0.9595959595959596]\n",
      "0.04040404040404041\n",
      "Accuracy score 0.7895706651925557\n",
      "Disparate impact 0.8746248662628803\n",
      "[0.05050505050505051, 0.9494949494949495]\n",
      "0.05050505050505051\n",
      "Accuracy score 0.7880965542657085\n",
      "Disparate impact 0.8768646403754881\n",
      "[0.06060606060606061, 0.9393939393939394]\n",
      "0.06060606060606061\n",
      "Accuracy score 0.7870523923591917\n",
      "Disparate impact 0.8845396448774497\n",
      "[0.07070707070707072, 0.9292929292929293]\n",
      "0.07070707070707072\n",
      "Accuracy score 0.7919046741600638\n",
      "Disparate impact 0.8757291479878674\n",
      "[0.08080808080808081, 0.9191919191919192]\n",
      "0.08080808080808081\n",
      "Accuracy score 0.7884036607088016\n",
      "Disparate impact 0.8779583902939166\n",
      "[0.09090909090909091, 0.9090909090909091]\n",
      "0.09090909090909091\n",
      "Accuracy score 0.7888950310177507\n",
      "Disparate impact 0.879696805832935\n",
      "[0.10101010101010102, 0.898989898989899]\n",
      "0.10101010101010102\n",
      "Accuracy score 0.7884650819974203\n",
      "Disparate impact 0.8854944140232905\n",
      "[0.11111111111111112, 0.8888888888888888]\n",
      "0.11111111111111112\n",
      "Accuracy score 0.7869295497819544\n",
      "Disparate impact 0.883047789460395\n",
      "[0.12121212121212122, 0.8787878787878788]\n",
      "0.12121212121212122\n",
      "Accuracy score 0.7888950310177507\n",
      "Disparate impact 0.8801411204983234\n",
      "[0.13131313131313133, 0.8686868686868687]\n",
      "0.13131313131313133\n",
      "Accuracy score 0.7877894478226153\n",
      "Disparate impact 0.8837079561332949\n",
      "[0.14141414141414144, 0.8585858585858586]\n",
      "0.14141414141414144\n",
      "Accuracy score 0.7892635587494625\n",
      "Disparate impact 0.8844989579035657\n",
      "[0.15151515151515152, 0.8484848484848485]\n",
      "0.15151515151515152\n",
      "Accuracy score 0.7886493458632762\n",
      "Disparate impact 0.878197651202959\n",
      "[0.16161616161616163, 0.8383838383838383]\n",
      "0.16161616161616163\n",
      "Accuracy score 0.7909219335421657\n",
      "Disparate impact 0.8782421118437204\n",
      "[0.17171717171717174, 0.8282828282828283]\n",
      "0.17171717171717174\n",
      "Accuracy score 0.7897549290584116\n",
      "Disparate impact 0.88060257724798\n",
      "[0.18181818181818182, 0.8181818181818181]\n",
      "0.18181818181818182\n",
      "Accuracy score 0.7919046741600638\n",
      "Disparate impact 0.8728056638147729\n",
      "[0.19191919191919193, 0.8080808080808081]\n",
      "0.19191919191919193\n",
      "Accuracy score 0.7903077206559793\n",
      "Disparate impact 0.8791893784360404\n",
      "[0.20202020202020204, 0.797979797979798]\n",
      "0.20202020202020204\n",
      "Accuracy score 0.7933173637982925\n",
      "Disparate impact 0.8780060028752712\n",
      "[0.21212121212121213, 0.7878787878787878]\n",
      "0.21212121212121213\n",
      "Accuracy score 0.7914133038511147\n",
      "Disparate impact 0.8774648564842052\n",
      "[0.22222222222222224, 0.7777777777777778]\n",
      "0.22222222222222224\n",
      "Accuracy score 0.7916589890055893\n",
      "Disparate impact 0.8821237321414199\n",
      "[0.23232323232323235, 0.7676767676767676]\n",
      "0.23232323232323235\n",
      "Accuracy score 0.7911676186966402\n",
      "Disparate impact 0.8809505529344595\n",
      "[0.24242424242424243, 0.7575757575757576]\n",
      "0.24242424242424243\n",
      "Accuracy score 0.7926417296234874\n",
      "Disparate impact 0.8795233330977769\n",
      "[0.25252525252525254, 0.7474747474747474]\n",
      "0.25252525252525254\n",
      "Accuracy score 0.7935630489527671\n",
      "Disparate impact 0.8809823701246643\n",
      "[0.26262626262626265, 0.7373737373737373]\n",
      "0.26262626262626265\n",
      "Accuracy score 0.7931330999324366\n",
      "Disparate impact 0.8814766857506023\n",
      "[0.27272727272727276, 0.7272727272727273]\n",
      "0.27272727272727276\n",
      "Accuracy score 0.7928874147779621\n",
      "Disparate impact 0.8750614142176589\n",
      "[0.2828282828282829, 0.7171717171717171]\n",
      "0.2828282828282829\n",
      "Accuracy score 0.7924574657576315\n",
      "Disparate impact 0.878640775489974\n",
      "[0.29292929292929293, 0.7070707070707071]\n",
      "0.29292929292929293\n",
      "Accuracy score 0.7928874147779621\n",
      "Disparate impact 0.8670313774443579\n",
      "[0.30303030303030304, 0.696969696969697]\n",
      "0.30303030303030304\n",
      "Accuracy score 0.7933173637982925\n",
      "Disparate impact 0.8740054474425668\n",
      "[0.31313131313131315, 0.6868686868686869]\n",
      "0.31313131313131315\n",
      "Accuracy score 0.792211780603157\n",
      "Disparate impact 0.8756992627684655\n",
      "[0.32323232323232326, 0.6767676767676767]\n",
      "0.32323232323232326\n",
      "Accuracy score 0.7904919845218352\n",
      "Disparate impact 0.8818951151080883\n",
      "[0.33333333333333337, 0.6666666666666666]\n",
      "0.33333333333333337\n",
      "Accuracy score 0.7900620355015048\n",
      "Disparate impact 0.8729811924034583\n",
      "[0.3434343434343435, 0.6565656565656566]\n",
      "0.3434343434343435\n",
      "Accuracy score 0.7911676186966402\n",
      "Disparate impact 0.8778769009348331\n",
      "[0.3535353535353536, 0.6464646464646464]\n",
      "0.3535353535353536\n",
      "Accuracy score 0.7904305632332166\n",
      "Disparate impact 0.8737367587970292\n",
      "[0.36363636363636365, 0.6363636363636364]\n",
      "0.36363636363636365\n",
      "Accuracy score 0.791536146428352\n",
      "Disparate impact 0.8703183843914662\n",
      "[0.37373737373737376, 0.6262626262626263]\n",
      "0.37373737373737376\n",
      "Accuracy score 0.7955285301885634\n",
      "Disparate impact 0.8715165976590233\n",
      "[0.38383838383838387, 0.6161616161616161]\n",
      "0.38383838383838387\n",
      "Accuracy score 0.7927031509121062\n",
      "Disparate impact 0.8641065485423813\n",
      "[0.393939393939394, 0.606060606060606]\n",
      "0.393939393939394\n",
      "Accuracy score 0.7923346231803943\n",
      "Disparate impact 0.8707612995384955\n",
      "[0.4040404040404041, 0.5959595959595959]\n",
      "0.4040404040404041\n",
      "Accuracy score 0.7935630489527671\n",
      "Disparate impact 0.866758692125171\n",
      "[0.4141414141414142, 0.5858585858585859]\n",
      "0.4141414141414142\n",
      "Accuracy score 0.7962041643633684\n",
      "Disparate impact 0.8670301613156172\n",
      "[0.42424242424242425, 0.5757575757575757]\n",
      "0.42424242424242425\n",
      "Accuracy score 0.7951600024568516\n",
      "Disparate impact 0.8700028147368624\n",
      "[0.43434343434343436, 0.5656565656565656]\n",
      "0.43434343434343436\n",
      "Accuracy score 0.7942386831275721\n",
      "Disparate impact 0.8723736233996469\n",
      "[0.4444444444444445, 0.5555555555555556]\n",
      "0.4444444444444445\n",
      "Accuracy score 0.7959584792088938\n",
      "Disparate impact 0.8652424022925055\n",
      "[0.4545454545454546, 0.5454545454545454]\n",
      "0.4545454545454546\n",
      "Accuracy score 0.7966955346723175\n",
      "Disparate impact 0.866513415937397\n",
      "[0.4646464646464647, 0.5353535353535352]\n",
      "0.4646464646464647\n",
      "Accuracy score 0.7954671088999448\n",
      "Disparate impact 0.8672222752295101\n",
      "[0.4747474747474748, 0.5252525252525252]\n",
      "0.4747474747474748\n",
      "Accuracy score 0.7960813217861311\n",
      "Disparate impact 0.8634897019308408\n",
      "[0.48484848484848486, 0.5151515151515151]\n",
      "0.48484848484848486\n",
      "Accuracy score 0.7944843682820466\n",
      "Disparate impact 0.8603984187272303\n",
      "[0.494949494949495, 0.505050505050505]\n",
      "0.494949494949495\n",
      "Accuracy score 0.7968797985381734\n",
      "Disparate impact 0.8624941883436091\n",
      "[0.5050505050505051, 0.4949494949494949]\n",
      "0.5050505050505051\n",
      "Accuracy score 0.7958356366316566\n",
      "Disparate impact 0.856344362918019\n",
      "[0.5151515151515152, 0.48484848484848475]\n",
      "0.5151515151515152\n",
      "Accuracy score 0.7973711688471224\n",
      "Disparate impact 0.856824346968327\n",
      "[0.5252525252525253, 0.4747474747474747]\n",
      "0.5252525252525253\n",
      "Accuracy score 0.7985995946194951\n",
      "Disparate impact 0.8559918648310388\n",
      "[0.5353535353535354, 0.46464646464646464]\n",
      "0.5353535353535354\n",
      "Accuracy score 0.8041889318837909\n",
      "Disparate impact 0.8483135248209585\n",
      "[0.5454545454545455, 0.4545454545454545]\n",
      "0.5454545454545455\n",
      "Accuracy score 0.799459492660156\n",
      "Disparate impact 0.8540596202045404\n",
      "[0.5555555555555556, 0.4444444444444444]\n",
      "0.5555555555555556\n",
      "Accuracy score 0.8032061912658928\n",
      "Disparate impact 0.8544615883723834\n",
      "[0.5656565656565657, 0.43434343434343425]\n",
      "0.5656565656565657\n",
      "Accuracy score 0.7979853817333088\n",
      "Disparate impact 0.860485729032936\n",
      "[0.5757575757575758, 0.4242424242424242]\n",
      "0.5757575757575758\n",
      "Accuracy score 0.8013021313187151\n",
      "Disparate impact 0.855956106870229\n",
      "[0.5858585858585859, 0.41414141414141414]\n",
      "0.5858585858585859\n",
      "Accuracy score 0.800135126834961\n",
      "Disparate impact 0.8508550225623445\n",
      "[0.595959595959596, 0.404040404040404]\n",
      "0.595959595959596\n",
      "Accuracy score 0.8003193907008169\n",
      "Disparate impact 0.8534144357875939\n",
      "[0.6060606060606061, 0.3939393939393939]\n",
      "0.6060606060606061\n",
      "Accuracy score 0.8002579694121983\n",
      "Disparate impact 0.8529403515912344\n",
      "[0.6161616161616162, 0.38383838383838376]\n",
      "0.6161616161616162\n",
      "Accuracy score 0.7992752287943001\n",
      "Disparate impact 0.8541453936369172\n",
      "[0.6262626262626263, 0.3737373737373737]\n",
      "0.6262626262626263\n",
      "Accuracy score 0.798783858485351\n",
      "Disparate impact 0.8525358584705766\n",
      "[0.6363636363636365, 0.36363636363636354]\n"
     ]
    },
    {
     "name": "stdout",
     "output_type": "stream",
     "text": [
      "0.6363636363636365\n",
      "Accuracy score 0.8011178674528592\n",
      "Disparate impact 0.8563623651276377\n",
      "[0.6464646464646465, 0.3535353535353535]\n",
      "0.6464646464646465\n",
      "Accuracy score 0.8011792887414778\n",
      "Disparate impact 0.8522939138460802\n",
      "[0.6565656565656566, 0.3434343434343434]\n",
      "0.6565656565656566\n",
      "Accuracy score 0.8005650758552915\n",
      "Disparate impact 0.8525718772838239\n",
      "[0.6666666666666667, 0.33333333333333326]\n",
      "0.6666666666666667\n",
      "Accuracy score 0.8007493397211474\n",
      "Disparate impact 0.8479898103002373\n",
      "[0.6767676767676768, 0.3232323232323232]\n",
      "0.6767676767676768\n",
      "Accuracy score 0.80332903384313\n",
      "Disparate impact 0.8469355006331629\n",
      "[0.686868686868687, 0.31313131313131304]\n",
      "0.686868686868687\n",
      "Accuracy score 0.804004668017935\n",
      "Disparate impact 0.843077359533337\n",
      "[0.696969696969697, 0.303030303030303]\n",
      "0.696969696969697\n",
      "Accuracy score 0.807198575026104\n",
      "Disparate impact 0.8462210393259795\n",
      "[0.7070707070707072, 0.2929292929292928]\n",
      "0.7070707070707072\n",
      "Accuracy score 0.807198575026104\n",
      "Disparate impact 0.8461181896297092\n",
      "[0.7171717171717172, 0.28282828282828276]\n",
      "0.7171717171717172\n",
      "Accuracy score 0.8065843621399177\n",
      "Disparate impact 0.8499806736161497\n",
      "[0.7272727272727273, 0.2727272727272727]\n",
      "0.7272727272727273\n",
      "Accuracy score 0.8064615195626804\n",
      "Disparate impact 0.8425908348454307\n",
      "[0.7373737373737375, 0.26262626262626254]\n",
      "0.7373737373737375\n",
      "Accuracy score 0.8068914685830109\n",
      "Disparate impact 0.8438210704041986\n",
      "[0.7474747474747475, 0.2525252525252525]\n",
      "0.7474747474747475\n",
      "Accuracy score 0.8061544131195872\n",
      "Disparate impact 0.8422462891491417\n",
      "[0.7575757575757577, 0.24242424242424232]\n",
      "0.7575757575757577\n",
      "Accuracy score 0.8089183711074258\n",
      "Disparate impact 0.8433734939759037\n",
      "[0.7676767676767677, 0.23232323232323226]\n",
      "0.7676767676767677\n",
      "Accuracy score 0.8095325839936122\n",
      "Disparate impact 0.8430171573903446\n",
      "[0.7777777777777778, 0.2222222222222222]\n",
      "0.7777777777777778\n",
      "Accuracy score 0.808549843375714\n",
      "Disparate impact 0.8409649011809044\n",
      "[0.787878787878788, 0.21212121212121204]\n",
      "0.787878787878788\n",
      "Accuracy score 0.8118051716725017\n",
      "Disparate impact 0.8270123068331372\n",
      "[0.797979797979798, 0.202020202020202]\n",
      "0.797979797979798\n",
      "Accuracy score 0.8098396904367053\n",
      "Disparate impact 0.8367008131512488\n",
      "[0.8080808080808082, 0.19191919191919182]\n",
      "0.8080808080808082\n",
      "Accuracy score 0.8109452736318408\n",
      "Disparate impact 0.83419863847437\n",
      "[0.8181818181818182, 0.18181818181818177]\n",
      "0.8181818181818182\n",
      "Accuracy score 0.8084270007984767\n",
      "Disparate impact 0.8378352238278041\n",
      "[0.8282828282828284, 0.1717171717171716]\n",
      "0.8282828282828284\n",
      "Accuracy score 0.8094097414163749\n",
      "Disparate impact 0.8355593327552334\n",
      "[0.8383838383838385, 0.16161616161616155]\n",
      "0.8383838383838385\n",
      "Accuracy score 0.811743750383883\n",
      "Disparate impact 0.8309198809098567\n",
      "[0.8484848484848485, 0.1515151515151515]\n",
      "0.8484848484848485\n",
      "Accuracy score 0.8119894355383576\n",
      "Disparate impact 0.8343542553180978\n",
      "[0.8585858585858587, 0.14141414141414133]\n",
      "0.8585858585858587\n",
      "Accuracy score 0.8096554265708494\n",
      "Disparate impact 0.8328706672677516\n",
      "[0.8686868686868687, 0.13131313131313127]\n",
      "0.8686868686868687\n",
      "Accuracy score 0.8108838523432221\n",
      "Disparate impact 0.8311372690286488\n",
      "[0.8787878787878789, 0.1212121212121211]\n",
      "0.8787878787878789\n",
      "Accuracy score 0.813095018733493\n",
      "Disparate impact 0.8306530731479975\n",
      "[0.888888888888889, 0.11111111111111105]\n",
      "0.888888888888889\n",
      "Accuracy score 0.8122351206928321\n",
      "Disparate impact 0.8318416678769102\n",
      "[0.8989898989898991, 0.10101010101010088]\n",
      "0.8989898989898991\n",
      "Accuracy score 0.8113138013635526\n",
      "Disparate impact 0.8334756872010058\n",
      "[0.9090909090909092, 0.09090909090909083]\n",
      "0.9090909090909092\n",
      "Accuracy score 0.8130335974448744\n",
      "Disparate impact 0.8354903783488526\n",
      "[0.9191919191919192, 0.08080808080808077]\n",
      "0.9191919191919192\n",
      "Accuracy score 0.8131564400221116\n",
      "Disparate impact 0.8354891285136667\n",
      "[0.9292929292929294, 0.07070707070707061]\n",
      "0.9292929292929294\n",
      "Accuracy score 0.8136478103310607\n",
      "Disparate impact 0.8322508842961842\n",
      "[0.9393939393939394, 0.06060606060606055]\n",
      "0.9393939393939394\n",
      "Accuracy score 0.8122351206928321\n",
      "Disparate impact 0.8351019933784938\n",
      "[0.9494949494949496, 0.050505050505050386]\n",
      "0.9494949494949496\n",
      "Accuracy score 0.8164731896075179\n",
      "Disparate impact 0.8349854436560556\n",
      "[0.9595959595959597, 0.04040404040404033]\n",
      "0.9595959595959597\n",
      "Accuracy score 0.814446287083103\n",
      "Disparate impact 0.8411189592410541\n",
      "[0.9696969696969697, 0.030303030303030276]\n",
      "0.9696969696969697\n",
      "Accuracy score 0.8141391806400098\n",
      "Disparate impact 0.8357358916714615\n",
      "[0.9797979797979799, 0.02020202020202011]\n",
      "0.9797979797979799\n",
      "Accuracy score 0.819175726306738\n",
      "Disparate impact 0.82999636494579\n",
      "[0.98989898989899, 0.010101010101010055]\n",
      "0.98989898989899\n",
      "Accuracy score 0.8174559302254162\n",
      "Disparate impact 0.8364634807411768\n",
      "[1.0, 0.0]\n",
      "1.0\n",
      "Accuracy score 0.8017935016276642\n",
      "Disparate impact 0.8485107689482413\n"
     ]
    }
   ],
   "source": [
    "acs_1 = []\n",
    "dims_1 = []\n",
    "\n",
    "for repair_value in tqdm_notebook(np.linspace(0, 1, num=100)):\n",
    "    X_new, y_new = transform_dataset([repair_value, 1-repair_value], data_train[gender_train == 'Male'], data_train[gender_train == 'Female'], y_train, coupling1)\n",
    "    clf1 = clone(clf_base)\n",
    "    clf1.fit(X_new, y_new)\n",
    "    print(repair_value)\n",
    "    accuracy_sc = accuracy_score(y_test, clf1.predict(data_test))\n",
    "    disparate_im = disparate_impact(clf1.predict(data_test), gender_binary)\n",
    "    acs.append(accuracy_sc)\n",
    "    dims.append(disparate_im)\n",
    "    print('Accuracy score {}'.format(accuracy_sc))\n",
    "    print('Disparate impact {}'.format(disparate_im))"
   ]
  },
  {
   "cell_type": "code",
   "execution_count": 77,
   "metadata": {},
   "outputs": [
    {
     "data": {
      "image/png": "[encoded data removed]",
      "text/plain": [
       "<Figure size 432x288 with 1 Axes>"
      ]
     },
     "metadata": {},
     "output_type": "display_data"
    }
   ],
   "source": [
    "with sns.axes_style('darkgrid'):\n",
    "    plt.plot(np.linspace(0, 1, 100), acs[:100])\n",
    "    plt.plot(np.linspace(0, 1, 100), acs[100:])"
   ]
  },
  {
   "cell_type": "code",
   "execution_count": 78,
   "metadata": {},
   "outputs": [
    {
     "data": {
      "image/png": "[encoded data removed]",
      "text/plain": [
       "<Figure size 432x288 with 1 Axes>"
      ]
     },
     "metadata": {},
     "output_type": "display_data"
    }
   ],
   "source": [
    "with sns.axes_style('darkgrid'):\n",
    "    plt.plot(np.linspace(0, 1, 100), dims[:100])\n",
    "    plt.plot(np.linspace(0, 1, 100), dims[100:])"
   ]
  },
  {
   "cell_type": "code",
   "execution_count": 46,
   "metadata": {},
   "outputs": [
    {
     "name": "stdout",
     "output_type": "stream",
     "text": [
      "[0.4, 0.6]\n"
     ]
    }
   ],
   "source": [
    "X_new, y_new = transform_dataset([0.4, 0.6], data_train[gender_train == 'Male'], data_train[gender_train == 'Female'], y_train, coupling)"
   ]
  },
  {
   "cell_type": "code",
   "execution_count": 47,
   "metadata": {},
   "outputs": [
    {
     "data": {
      "text/plain": [
       "0.8426804052258893"
      ]
     },
     "execution_count": 47,
     "metadata": {},
     "output_type": "execute_result"
    }
   ],
   "source": [
    "disparate_impact(clf.predict(data_test), gender_binary)"
   ]
  },
  {
   "cell_type": "code",
   "execution_count": 48,
   "metadata": {},
   "outputs": [
    {
     "data": {
      "text/plain": [
       "0.794422946993428"
      ]
     },
     "execution_count": 48,
     "metadata": {},
     "output_type": "execute_result"
    }
   ],
   "source": [
    "clf1 = clone(clf_base)\n",
    "clf1.fit(X_new, y_new)\n",
    "\n",
    "accuracy_score(y_test, clf1.predict(data_test))"
   ]
  },
  {
   "cell_type": "code",
   "execution_count": 49,
   "metadata": {},
   "outputs": [
    {
     "data": {
      "text/plain": [
       "0.8711993647916861"
      ]
     },
     "execution_count": 49,
     "metadata": {},
     "output_type": "execute_result"
    }
   ],
   "source": [
    "disparate_impact(clf1.predict(data_test), gender_binary)"
   ]
  },
  {
   "cell_type": "markdown",
   "metadata": {},
   "source": [
    "### Show that different solutions for the same transporation problem can have different fairness"
   ]
  },
  {
   "cell_type": "markdown",
   "metadata": {},
   "source": [
    "### Explore how the regularized barycenters are defined, try to apply them to the problem"
   ]
  },
  {
   "cell_type": "markdown",
   "metadata": {},
   "source": [
    "### Use the regularized transport maps instead of usual ones"
   ]
  }
 ],
 "metadata": {
  "kernelspec": {
   "display_name": "Python 3",
   "language": "python",
   "name": "python3"
  },
  "language_info": {
   "codemirror_mode": {
    "name": "ipython",
    "version": 3
   },
   "file_extension": ".py",
   "mimetype": "text/x-python",
   "name": "python",
   "nbconvert_exporter": "python",
   "pygments_lexer": "ipython3",
   "version": "3.6.6"
  }
 },
 "nbformat": 4,
 "nbformat_minor": 2
}
