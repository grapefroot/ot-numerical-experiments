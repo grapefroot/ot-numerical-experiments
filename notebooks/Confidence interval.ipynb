{
 "cells": [
  {
   "cell_type": "code",
   "execution_count": 20,
   "metadata": {},
   "outputs": [],
   "source": [
    "import numpy as np\n",
    "import scipy\n",
    "from scipy import stats\n",
    "import math\n",
    "import matplotlib.pyplot as plt"
   ]
  },
  {
   "cell_type": "code",
   "execution_count": 50,
   "metadata": {},
   "outputs": [],
   "source": [
    "def estimate_Tn(target_label:np.array, protected_variable:np.array, transform_func):\n",
    "    \"\"\"\n",
    "    target_label:np.array[n] - may be either a classifier output or a given target label a.k.a g(X) in the paper\n",
    "    protected_variable:np.array[n] - a.k.a S in the paper\n",
    "    transform_func: protected_variable.dtype -> {0, 1} - transform the protected variable to {0, 1}\n",
    "    \n",
    "    Returns: \n",
    "    T_n: float - the value of T_n\n",
    "    \"\"\"\n",
    "    if transform_func is None:\n",
    "        transformed_protected = protected_variable\n",
    "    else:\n",
    "        transformed_protected = transform_func(protected_variable)\n",
    "        \n",
    "    numerator = sum((target_label == 1) & (transformed_protected == 0)) * sum(transformed_protected == 1)\n",
    "    denominator = sum((target_label == 1) & (transformed_protected == 1)) * sum(transformed_protected == 0)\n",
    "    \n",
    "    T_n = numerator / denominator\n",
    "    \n",
    "    pi_0 = np.mean(transformed_protected == 0)\n",
    "    pi_1 = np.mean(transformed_protected == 1)\n",
    "    p_0 = np.mean((target_label == 1) & (transformed_protected == 0))\n",
    "    p_1 = np.mean((target_label == 1) & (transformed_protected == 1))\n",
    "    \n",
    "    phi_grad = np.array([\n",
    "        pi_1 / (pi_0 * p_1),\n",
    "        -p_0 * pi_1 / (p_1**2 * pi_0),\n",
    "        -p_0 * pi_1 / (p_1 * pi_0**2),\n",
    "        p_0 / (p_1 * pi_0)\n",
    "    ])\n",
    "    sigma_mat = np.array([\n",
    "        [p_0 * (1 - p_0), 0, 0, 0],\n",
    "        [-p_0*p_1, p_1*(1 - p_1), 0, 0],\n",
    "        [pi_1*p_0, -pi_0*p_1, pi_0*pi_1, 0],\n",
    "        [-pi_1*p_0, pi_0*p_1, -pi_0 * pi_1, pi_0 * pi_1]])\n",
    "    \n",
    "    sigma_scalar = np.sqrt(phi_grad @ sigma_mat @ phi_grad)\n",
    "\n",
    "    print(sigma_mat)\n",
    "    print(phi_grad)\n",
    "    return T_n, sigma_scalar"
   ]
  },
  {
   "cell_type": "code",
   "execution_count": 51,
   "metadata": {},
   "outputs": [],
   "source": [
    "def construct_confidence_interval(target_label, protected_variable, transform_func=None, level=0.9):\n",
    "    \"\"\"\n",
    "    Constructs the confidence interval for DI at level \"level\"\n",
    "    \n",
    "    Returns:\n",
    "    T_n: float - the value of T_n\n",
    "    lower_value:float - lower interval value\n",
    "    upper_value:float - upper interval value\n",
    "    \"\"\"\n",
    "    T_n, sigma_scalar = estimate_Tn(target_label, protected_variable, transform_func)\n",
    "    Z = stats.norm.ppf(level)\n",
    "    lower_value = T_n - sigma_scalar * Z / np.sqrt(len(target_label))\n",
    "    upper_value = T_n + sigma_scalar * Z / np.sqrt(len(target_label))\n",
    "    return T_n, lower_value, upper_value"
   ]
  },
  {
   "cell_type": "code",
   "execution_count": 56,
   "metadata": {},
   "outputs": [
    {
     "data": {
      "text/plain": [
       "1"
      ]
     },
     "execution_count": 56,
     "metadata": {},
     "output_type": "execute_result"
    }
   ],
   "source": [
    "np.random.binomial(1, 0.5)"
   ]
  },
  {
   "cell_type": "code",
   "execution_count": 61,
   "metadata": {},
   "outputs": [
    {
     "name": "stdout",
     "output_type": "stream",
     "text": [
      "[[ 0.21  0.    0.    0.  ]\n",
      " [-0.06  0.16  0.    0.  ]\n",
      " [ 0.18 -0.08  0.24  0.  ]\n",
      " [-0.18  0.08 -0.24  0.24]]\n",
      "[  7.5   -11.25   -5.625   3.75 ]\n"
     ]
    },
    {
     "data": {
      "text/plain": [
       "(2.25, -0.04474682014685305, 4.5447468201468535)"
      ]
     },
     "execution_count": 61,
     "metadata": {},
     "output_type": "execute_result"
    }
   ],
   "source": [
    "construct_confidence_interval(np.random.binomial(1, 0.5, 10), np.random.binomial(1, 0.5, 10))"
   ]
  },
  {
   "cell_type": "code",
   "execution_count": null,
   "metadata": {},
   "outputs": [],
   "source": []
  }
 ],
 "metadata": {
  "kernelspec": {
   "display_name": "Python 3",
   "language": "python",
   "name": "python3"
  },
  "language_info": {
   "codemirror_mode": {
    "name": "ipython",
    "version": 3
   },
   "file_extension": ".py",
   "mimetype": "text/x-python",
   "name": "python",
   "nbconvert_exporter": "python",
   "pygments_lexer": "ipython3",
   "version": "3.6.6"
  }
 },
 "nbformat": 4,
 "nbformat_minor": 2
}
